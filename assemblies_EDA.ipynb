{
 "cells": [
  {
   "cell_type": "code",
   "execution_count": 900,
   "id": "15d60ea9",
   "metadata": {},
   "outputs": [],
   "source": [
    "import pandas as pd\n",
    "import numpy as np\n",
    "import matplotlib.pyplot as plt\n",
    "import seaborn as sns"
   ]
  },
  {
   "cell_type": "markdown",
   "id": "9524a66b",
   "metadata": {},
   "source": [
    "У нас имеется 3 параметра: <br>\n",
    "`goods_amount` - количество товаров в заказе <br>\n",
    "`goods_SKU` - количество уникальных позиций в заказе <br>\n",
    "`store_format` - тип магазина, в котором собирается заказ <br>\n",
    "\n",
    "В качестве таргета нужно предсказывать время сборки заказа в зависимости от этих 3-х параметров. Для начала рассчитаем его."
   ]
  },
  {
   "cell_type": "markdown",
   "id": "76c3151e",
   "metadata": {},
   "source": [
    "### Вычисление таргета"
   ]
  },
  {
   "cell_type": "code",
   "execution_count": 901,
   "id": "6d25e96b",
   "metadata": {
    "scrolled": true
   },
   "outputs": [
    {
     "data": {
      "text/html": [
       "<div>\n",
       "<style scoped>\n",
       "    .dataframe tbody tr th:only-of-type {\n",
       "        vertical-align: middle;\n",
       "    }\n",
       "\n",
       "    .dataframe tbody tr th {\n",
       "        vertical-align: top;\n",
       "    }\n",
       "\n",
       "    .dataframe thead th {\n",
       "        text-align: right;\n",
       "    }\n",
       "</style>\n",
       "<table border=\"1\" class=\"dataframe\">\n",
       "  <thead>\n",
       "    <tr style=\"text-align: right;\">\n",
       "      <th></th>\n",
       "      <th>assembly_id</th>\n",
       "      <th>store_format</th>\n",
       "      <th>goods_amount</th>\n",
       "      <th>goods_SKU</th>\n",
       "      <th>await</th>\n",
       "      <th>assembly</th>\n",
       "      <th>assembled</th>\n",
       "    </tr>\n",
       "  </thead>\n",
       "  <tbody>\n",
       "    <tr>\n",
       "      <th>0</th>\n",
       "      <td>470a14bf-4946-43d3-8393-ee268f0226fc</td>\n",
       "      <td>МД/Мини-Даркстор</td>\n",
       "      <td>16</td>\n",
       "      <td>11</td>\n",
       "      <td>2022-11-25 22:29:52.724424+03</td>\n",
       "      <td>2022-11-25 22:29:59.941036+03</td>\n",
       "      <td>2022-11-25 22:35:09.780991+03</td>\n",
       "    </tr>\n",
       "    <tr>\n",
       "      <th>1</th>\n",
       "      <td>0e1dd7cd-22e9-472d-98be-bd44494eed90</td>\n",
       "      <td>МД/Мини-Даркстор</td>\n",
       "      <td>21</td>\n",
       "      <td>6</td>\n",
       "      <td>2022-11-25 22:28:33.460987+03</td>\n",
       "      <td>2022-11-25 22:53:49.705354+03</td>\n",
       "      <td>2022-11-25 23:00:53.648314+03</td>\n",
       "    </tr>\n",
       "    <tr>\n",
       "      <th>2</th>\n",
       "      <td>fba48d22-4997-47da-a4fa-3c3f99cb5b0a</td>\n",
       "      <td>МД/Мини-Даркстор</td>\n",
       "      <td>40</td>\n",
       "      <td>21</td>\n",
       "      <td>2022-11-25 22:27:51.784131+03</td>\n",
       "      <td>2022-11-25 22:34:38.225546+03</td>\n",
       "      <td>2022-11-25 23:01:12.551313+03</td>\n",
       "    </tr>\n",
       "    <tr>\n",
       "      <th>3</th>\n",
       "      <td>1eed7da3-eaab-4549-b0a7-b76309c76746</td>\n",
       "      <td>МД/Мини-Даркстор</td>\n",
       "      <td>16</td>\n",
       "      <td>15</td>\n",
       "      <td>2022-11-25 22:27:29.864951+03</td>\n",
       "      <td>2022-11-25 22:27:37.525791+03</td>\n",
       "      <td>2022-11-25 22:36:36.600781+03</td>\n",
       "    </tr>\n",
       "    <tr>\n",
       "      <th>4</th>\n",
       "      <td>b8c11ea6-ec02-4fb8-a866-a9765027f12d</td>\n",
       "      <td>МД/Мини-Даркстор</td>\n",
       "      <td>31</td>\n",
       "      <td>23</td>\n",
       "      <td>2022-11-25 22:26:08.755234+03</td>\n",
       "      <td>2022-11-25 22:31:38.099024+03</td>\n",
       "      <td>2022-11-25 22:59:00.194444+03</td>\n",
       "    </tr>\n",
       "    <tr>\n",
       "      <th>...</th>\n",
       "      <td>...</td>\n",
       "      <td>...</td>\n",
       "      <td>...</td>\n",
       "      <td>...</td>\n",
       "      <td>...</td>\n",
       "      <td>...</td>\n",
       "      <td>...</td>\n",
       "    </tr>\n",
       "    <tr>\n",
       "      <th>17165</th>\n",
       "      <td>2bc0faf8-7544-41fc-bbf1-998c7fbe83ab</td>\n",
       "      <td>МД/Супермаркет</td>\n",
       "      <td>14</td>\n",
       "      <td>11</td>\n",
       "      <td>2022-11-25 05:05:32.834498+03</td>\n",
       "      <td>2022-11-25 05:22:38.412341+03</td>\n",
       "      <td>2022-11-25 05:29:23.059119+03</td>\n",
       "    </tr>\n",
       "    <tr>\n",
       "      <th>17166</th>\n",
       "      <td>c7527077-74b0-4725-8671-574e0ffe855b</td>\n",
       "      <td>МД/Супермаркет</td>\n",
       "      <td>24</td>\n",
       "      <td>19</td>\n",
       "      <td>2022-11-25 05:04:29.087294+03</td>\n",
       "      <td>2022-11-25 05:11:25.517131+03</td>\n",
       "      <td>2022-11-25 05:38:42.95586+03</td>\n",
       "    </tr>\n",
       "    <tr>\n",
       "      <th>17167</th>\n",
       "      <td>ed81acdc-0014-4764-b38f-ef08b0ab22b0</td>\n",
       "      <td>БФ/L+</td>\n",
       "      <td>14</td>\n",
       "      <td>10</td>\n",
       "      <td>2022-11-25 04:52:18.230673+03</td>\n",
       "      <td>2022-11-25 07:01:39.297215+03</td>\n",
       "      <td>2022-11-25 07:19:59.54091+03</td>\n",
       "    </tr>\n",
       "    <tr>\n",
       "      <th>17168</th>\n",
       "      <td>47bb1cf2-0806-4bcf-a382-ec8090ee8059</td>\n",
       "      <td>МД/Магазин у дома</td>\n",
       "      <td>26</td>\n",
       "      <td>26</td>\n",
       "      <td>2022-11-25 04:49:15.681203+03</td>\n",
       "      <td>2022-11-25 04:49:38.898344+03</td>\n",
       "      <td>2022-11-25 05:15:24.555777+03</td>\n",
       "    </tr>\n",
       "    <tr>\n",
       "      <th>17169</th>\n",
       "      <td>3ca7c1d7-fdeb-4c25-97c5-354896ccaccf</td>\n",
       "      <td>МД/Супермаркет</td>\n",
       "      <td>61</td>\n",
       "      <td>25</td>\n",
       "      <td>2022-11-25 04:42:02.964003+03</td>\n",
       "      <td>2022-11-25 04:43:25.653273+03</td>\n",
       "      <td>2022-11-25 05:32:30.494006+03</td>\n",
       "    </tr>\n",
       "  </tbody>\n",
       "</table>\n",
       "<p>17170 rows × 7 columns</p>\n",
       "</div>"
      ],
      "text/plain": [
       "                                assembly_id       store_format  goods_amount  \\\n",
       "0      470a14bf-4946-43d3-8393-ee268f0226fc   МД/Мини-Даркстор            16   \n",
       "1      0e1dd7cd-22e9-472d-98be-bd44494eed90   МД/Мини-Даркстор            21   \n",
       "2      fba48d22-4997-47da-a4fa-3c3f99cb5b0a   МД/Мини-Даркстор            40   \n",
       "3      1eed7da3-eaab-4549-b0a7-b76309c76746   МД/Мини-Даркстор            16   \n",
       "4      b8c11ea6-ec02-4fb8-a866-a9765027f12d   МД/Мини-Даркстор            31   \n",
       "...                                     ...                ...           ...   \n",
       "17165  2bc0faf8-7544-41fc-bbf1-998c7fbe83ab     МД/Супермаркет            14   \n",
       "17166  c7527077-74b0-4725-8671-574e0ffe855b     МД/Супермаркет            24   \n",
       "17167  ed81acdc-0014-4764-b38f-ef08b0ab22b0              БФ/L+            14   \n",
       "17168  47bb1cf2-0806-4bcf-a382-ec8090ee8059  МД/Магазин у дома            26   \n",
       "17169  3ca7c1d7-fdeb-4c25-97c5-354896ccaccf     МД/Супермаркет            61   \n",
       "\n",
       "       goods_SKU                          await  \\\n",
       "0             11  2022-11-25 22:29:52.724424+03   \n",
       "1              6  2022-11-25 22:28:33.460987+03   \n",
       "2             21  2022-11-25 22:27:51.784131+03   \n",
       "3             15  2022-11-25 22:27:29.864951+03   \n",
       "4             23  2022-11-25 22:26:08.755234+03   \n",
       "...          ...                            ...   \n",
       "17165         11  2022-11-25 05:05:32.834498+03   \n",
       "17166         19  2022-11-25 05:04:29.087294+03   \n",
       "17167         10  2022-11-25 04:52:18.230673+03   \n",
       "17168         26  2022-11-25 04:49:15.681203+03   \n",
       "17169         25  2022-11-25 04:42:02.964003+03   \n",
       "\n",
       "                            assembly                      assembled  \n",
       "0      2022-11-25 22:29:59.941036+03  2022-11-25 22:35:09.780991+03  \n",
       "1      2022-11-25 22:53:49.705354+03  2022-11-25 23:00:53.648314+03  \n",
       "2      2022-11-25 22:34:38.225546+03  2022-11-25 23:01:12.551313+03  \n",
       "3      2022-11-25 22:27:37.525791+03  2022-11-25 22:36:36.600781+03  \n",
       "4      2022-11-25 22:31:38.099024+03  2022-11-25 22:59:00.194444+03  \n",
       "...                              ...                            ...  \n",
       "17165  2022-11-25 05:22:38.412341+03  2022-11-25 05:29:23.059119+03  \n",
       "17166  2022-11-25 05:11:25.517131+03   2022-11-25 05:38:42.95586+03  \n",
       "17167  2022-11-25 07:01:39.297215+03   2022-11-25 07:19:59.54091+03  \n",
       "17168  2022-11-25 04:49:38.898344+03  2022-11-25 05:15:24.555777+03  \n",
       "17169  2022-11-25 04:43:25.653273+03  2022-11-25 05:32:30.494006+03  \n",
       "\n",
       "[17170 rows x 7 columns]"
      ]
     },
     "execution_count": 901,
     "metadata": {},
     "output_type": "execute_result"
    }
   ],
   "source": [
    "# смотрим как прочитались данные\n",
    "df = pd.read_csv('out.csv', sep=',')\n",
    "df"
   ]
  },
  {
   "cell_type": "code",
   "execution_count": 902,
   "id": "cbb4dac0",
   "metadata": {
    "scrolled": true
   },
   "outputs": [
    {
     "name": "stdout",
     "output_type": "stream",
     "text": [
      "<class 'pandas.core.frame.DataFrame'>\n",
      "RangeIndex: 17170 entries, 0 to 17169\n",
      "Data columns (total 7 columns):\n",
      " #   Column        Non-Null Count  Dtype \n",
      "---  ------        --------------  ----- \n",
      " 0   assembly_id   17170 non-null  object\n",
      " 1   store_format  17170 non-null  object\n",
      " 2   goods_amount  17170 non-null  int64 \n",
      " 3   goods_SKU     17170 non-null  int64 \n",
      " 4   await         17170 non-null  object\n",
      " 5   assembly      17170 non-null  object\n",
      " 6   assembled     17170 non-null  object\n",
      "dtypes: int64(2), object(5)\n",
      "memory usage: 939.1+ KB\n"
     ]
    }
   ],
   "source": [
    "# смотрим есть ли пропуски данных, какие типы данных присвоены\n",
    "df.info()"
   ]
  },
  {
   "cell_type": "code",
   "execution_count": 903,
   "id": "9e8f05b1",
   "metadata": {},
   "outputs": [
    {
     "data": {
      "text/plain": [
       "assembly_id     0\n",
       "store_format    0\n",
       "goods_amount    0\n",
       "goods_SKU       0\n",
       "await           0\n",
       "assembly        0\n",
       "assembled       0\n",
       "dtype: int64"
      ]
     },
     "execution_count": 903,
     "metadata": {},
     "output_type": "execute_result"
    }
   ],
   "source": [
    "# проверим, что столбцы не содержат никаких пустых значений \n",
    "find_empties = lambda x: sum(x.isnull())\n",
    "df.apply(find_empties, axis=0)"
   ]
  },
  {
   "cell_type": "code",
   "execution_count": 904,
   "id": "42384a93",
   "metadata": {
    "scrolled": false
   },
   "outputs": [
    {
     "data": {
      "text/plain": [
       "assembly_id             object\n",
       "store_format            object\n",
       "goods_amount             int64\n",
       "goods_SKU                int64\n",
       "await           datetime64[ns]\n",
       "assembly        datetime64[ns]\n",
       "assembled       datetime64[ns]\n",
       "dtype: object"
      ]
     },
     "execution_count": 904,
     "metadata": {},
     "output_type": "execute_result"
    }
   ],
   "source": [
    "# приведем столбцы с датой и временем к соотв. типу\n",
    "df = df.astype({\n",
    "    'await': 'datetime64',\n",
    "    'assembly': 'datetime64',\n",
    "    'assembled': 'datetime64'\n",
    "})\n",
    "df.dtypes"
   ]
  },
  {
   "cell_type": "code",
   "execution_count": 905,
   "id": "2c61fe06",
   "metadata": {
    "scrolled": true
   },
   "outputs": [
    {
     "data": {
      "text/html": [
       "<div>\n",
       "<style scoped>\n",
       "    .dataframe tbody tr th:only-of-type {\n",
       "        vertical-align: middle;\n",
       "    }\n",
       "\n",
       "    .dataframe tbody tr th {\n",
       "        vertical-align: top;\n",
       "    }\n",
       "\n",
       "    .dataframe thead th {\n",
       "        text-align: right;\n",
       "    }\n",
       "</style>\n",
       "<table border=\"1\" class=\"dataframe\">\n",
       "  <thead>\n",
       "    <tr style=\"text-align: right;\">\n",
       "      <th></th>\n",
       "      <th>assembly_id</th>\n",
       "      <th>store_format</th>\n",
       "      <th>goods_amount</th>\n",
       "      <th>goods_SKU</th>\n",
       "      <th>await</th>\n",
       "      <th>assembly</th>\n",
       "      <th>assembled</th>\n",
       "      <th>assembling_time</th>\n",
       "    </tr>\n",
       "  </thead>\n",
       "  <tbody>\n",
       "    <tr>\n",
       "      <th>0</th>\n",
       "      <td>470a14bf-4946-43d3-8393-ee268f0226fc</td>\n",
       "      <td>МД/Мини-Даркстор</td>\n",
       "      <td>16</td>\n",
       "      <td>11</td>\n",
       "      <td>2022-11-25 19:29:52.724424</td>\n",
       "      <td>2022-11-25 19:29:59.941036</td>\n",
       "      <td>2022-11-25 19:35:09.780991</td>\n",
       "      <td>0 days 00:05:09.839955</td>\n",
       "    </tr>\n",
       "    <tr>\n",
       "      <th>1</th>\n",
       "      <td>0e1dd7cd-22e9-472d-98be-bd44494eed90</td>\n",
       "      <td>МД/Мини-Даркстор</td>\n",
       "      <td>21</td>\n",
       "      <td>6</td>\n",
       "      <td>2022-11-25 19:28:33.460987</td>\n",
       "      <td>2022-11-25 19:53:49.705354</td>\n",
       "      <td>2022-11-25 20:00:53.648314</td>\n",
       "      <td>0 days 00:07:03.942960</td>\n",
       "    </tr>\n",
       "    <tr>\n",
       "      <th>2</th>\n",
       "      <td>fba48d22-4997-47da-a4fa-3c3f99cb5b0a</td>\n",
       "      <td>МД/Мини-Даркстор</td>\n",
       "      <td>40</td>\n",
       "      <td>21</td>\n",
       "      <td>2022-11-25 19:27:51.784131</td>\n",
       "      <td>2022-11-25 19:34:38.225546</td>\n",
       "      <td>2022-11-25 20:01:12.551313</td>\n",
       "      <td>0 days 00:26:34.325767</td>\n",
       "    </tr>\n",
       "    <tr>\n",
       "      <th>3</th>\n",
       "      <td>1eed7da3-eaab-4549-b0a7-b76309c76746</td>\n",
       "      <td>МД/Мини-Даркстор</td>\n",
       "      <td>16</td>\n",
       "      <td>15</td>\n",
       "      <td>2022-11-25 19:27:29.864951</td>\n",
       "      <td>2022-11-25 19:27:37.525791</td>\n",
       "      <td>2022-11-25 19:36:36.600781</td>\n",
       "      <td>0 days 00:08:59.074990</td>\n",
       "    </tr>\n",
       "    <tr>\n",
       "      <th>4</th>\n",
       "      <td>b8c11ea6-ec02-4fb8-a866-a9765027f12d</td>\n",
       "      <td>МД/Мини-Даркстор</td>\n",
       "      <td>31</td>\n",
       "      <td>23</td>\n",
       "      <td>2022-11-25 19:26:08.755234</td>\n",
       "      <td>2022-11-25 19:31:38.099024</td>\n",
       "      <td>2022-11-25 19:59:00.194444</td>\n",
       "      <td>0 days 00:27:22.095420</td>\n",
       "    </tr>\n",
       "  </tbody>\n",
       "</table>\n",
       "</div>"
      ],
      "text/plain": [
       "                            assembly_id      store_format  goods_amount  \\\n",
       "0  470a14bf-4946-43d3-8393-ee268f0226fc  МД/Мини-Даркстор            16   \n",
       "1  0e1dd7cd-22e9-472d-98be-bd44494eed90  МД/Мини-Даркстор            21   \n",
       "2  fba48d22-4997-47da-a4fa-3c3f99cb5b0a  МД/Мини-Даркстор            40   \n",
       "3  1eed7da3-eaab-4549-b0a7-b76309c76746  МД/Мини-Даркстор            16   \n",
       "4  b8c11ea6-ec02-4fb8-a866-a9765027f12d  МД/Мини-Даркстор            31   \n",
       "\n",
       "   goods_SKU                      await                   assembly  \\\n",
       "0         11 2022-11-25 19:29:52.724424 2022-11-25 19:29:59.941036   \n",
       "1          6 2022-11-25 19:28:33.460987 2022-11-25 19:53:49.705354   \n",
       "2         21 2022-11-25 19:27:51.784131 2022-11-25 19:34:38.225546   \n",
       "3         15 2022-11-25 19:27:29.864951 2022-11-25 19:27:37.525791   \n",
       "4         23 2022-11-25 19:26:08.755234 2022-11-25 19:31:38.099024   \n",
       "\n",
       "                   assembled        assembling_time  \n",
       "0 2022-11-25 19:35:09.780991 0 days 00:05:09.839955  \n",
       "1 2022-11-25 20:00:53.648314 0 days 00:07:03.942960  \n",
       "2 2022-11-25 20:01:12.551313 0 days 00:26:34.325767  \n",
       "3 2022-11-25 19:36:36.600781 0 days 00:08:59.074990  \n",
       "4 2022-11-25 19:59:00.194444 0 days 00:27:22.095420  "
      ]
     },
     "execution_count": 905,
     "metadata": {},
     "output_type": "execute_result"
    }
   ],
   "source": [
    "# рассчитаем время сборки заказа\n",
    "df['assembling_time'] = df['assembled'] - df['assembly']\n",
    "df.head()"
   ]
  },
  {
   "cell_type": "code",
   "execution_count": 906,
   "id": "188d6e21",
   "metadata": {},
   "outputs": [
    {
     "data": {
      "text/html": [
       "<div>\n",
       "<style scoped>\n",
       "    .dataframe tbody tr th:only-of-type {\n",
       "        vertical-align: middle;\n",
       "    }\n",
       "\n",
       "    .dataframe tbody tr th {\n",
       "        vertical-align: top;\n",
       "    }\n",
       "\n",
       "    .dataframe thead th {\n",
       "        text-align: right;\n",
       "    }\n",
       "</style>\n",
       "<table border=\"1\" class=\"dataframe\">\n",
       "  <thead>\n",
       "    <tr style=\"text-align: right;\">\n",
       "      <th></th>\n",
       "      <th>assembly_id</th>\n",
       "      <th>store_format</th>\n",
       "      <th>goods_amount</th>\n",
       "      <th>goods_SKU</th>\n",
       "      <th>await</th>\n",
       "      <th>assembly</th>\n",
       "      <th>assembled</th>\n",
       "      <th>assembling_time</th>\n",
       "    </tr>\n",
       "  </thead>\n",
       "  <tbody>\n",
       "    <tr>\n",
       "      <th>0</th>\n",
       "      <td>470a14bf-4946-43d3-8393-ee268f0226fc</td>\n",
       "      <td>МД/Мини-Даркстор</td>\n",
       "      <td>16</td>\n",
       "      <td>11</td>\n",
       "      <td>2022-11-25 19:29:52.724424</td>\n",
       "      <td>2022-11-25 19:29:59.941036</td>\n",
       "      <td>2022-11-25 19:35:09.780991</td>\n",
       "      <td>5.163999</td>\n",
       "    </tr>\n",
       "    <tr>\n",
       "      <th>1</th>\n",
       "      <td>0e1dd7cd-22e9-472d-98be-bd44494eed90</td>\n",
       "      <td>МД/Мини-Даркстор</td>\n",
       "      <td>21</td>\n",
       "      <td>6</td>\n",
       "      <td>2022-11-25 19:28:33.460987</td>\n",
       "      <td>2022-11-25 19:53:49.705354</td>\n",
       "      <td>2022-11-25 20:00:53.648314</td>\n",
       "      <td>7.065716</td>\n",
       "    </tr>\n",
       "    <tr>\n",
       "      <th>2</th>\n",
       "      <td>fba48d22-4997-47da-a4fa-3c3f99cb5b0a</td>\n",
       "      <td>МД/Мини-Даркстор</td>\n",
       "      <td>40</td>\n",
       "      <td>21</td>\n",
       "      <td>2022-11-25 19:27:51.784131</td>\n",
       "      <td>2022-11-25 19:34:38.225546</td>\n",
       "      <td>2022-11-25 20:01:12.551313</td>\n",
       "      <td>26.572096</td>\n",
       "    </tr>\n",
       "    <tr>\n",
       "      <th>3</th>\n",
       "      <td>1eed7da3-eaab-4549-b0a7-b76309c76746</td>\n",
       "      <td>МД/Мини-Даркстор</td>\n",
       "      <td>16</td>\n",
       "      <td>15</td>\n",
       "      <td>2022-11-25 19:27:29.864951</td>\n",
       "      <td>2022-11-25 19:27:37.525791</td>\n",
       "      <td>2022-11-25 19:36:36.600781</td>\n",
       "      <td>8.984583</td>\n",
       "    </tr>\n",
       "    <tr>\n",
       "      <th>4</th>\n",
       "      <td>b8c11ea6-ec02-4fb8-a866-a9765027f12d</td>\n",
       "      <td>МД/Мини-Даркстор</td>\n",
       "      <td>31</td>\n",
       "      <td>23</td>\n",
       "      <td>2022-11-25 19:26:08.755234</td>\n",
       "      <td>2022-11-25 19:31:38.099024</td>\n",
       "      <td>2022-11-25 19:59:00.194444</td>\n",
       "      <td>27.368257</td>\n",
       "    </tr>\n",
       "    <tr>\n",
       "      <th>...</th>\n",
       "      <td>...</td>\n",
       "      <td>...</td>\n",
       "      <td>...</td>\n",
       "      <td>...</td>\n",
       "      <td>...</td>\n",
       "      <td>...</td>\n",
       "      <td>...</td>\n",
       "      <td>...</td>\n",
       "    </tr>\n",
       "    <tr>\n",
       "      <th>17165</th>\n",
       "      <td>2bc0faf8-7544-41fc-bbf1-998c7fbe83ab</td>\n",
       "      <td>МД/Супермаркет</td>\n",
       "      <td>14</td>\n",
       "      <td>11</td>\n",
       "      <td>2022-11-25 02:05:32.834498</td>\n",
       "      <td>2022-11-25 02:22:38.412341</td>\n",
       "      <td>2022-11-25 02:29:23.059119</td>\n",
       "      <td>6.744113</td>\n",
       "    </tr>\n",
       "    <tr>\n",
       "      <th>17166</th>\n",
       "      <td>c7527077-74b0-4725-8671-574e0ffe855b</td>\n",
       "      <td>МД/Супермаркет</td>\n",
       "      <td>24</td>\n",
       "      <td>19</td>\n",
       "      <td>2022-11-25 02:04:29.087294</td>\n",
       "      <td>2022-11-25 02:11:25.517131</td>\n",
       "      <td>2022-11-25 02:38:42.955860</td>\n",
       "      <td>27.290645</td>\n",
       "    </tr>\n",
       "    <tr>\n",
       "      <th>17167</th>\n",
       "      <td>ed81acdc-0014-4764-b38f-ef08b0ab22b0</td>\n",
       "      <td>БФ/L+</td>\n",
       "      <td>14</td>\n",
       "      <td>10</td>\n",
       "      <td>2022-11-25 01:52:18.230673</td>\n",
       "      <td>2022-11-25 04:01:39.297215</td>\n",
       "      <td>2022-11-25 04:19:59.540910</td>\n",
       "      <td>18.337395</td>\n",
       "    </tr>\n",
       "    <tr>\n",
       "      <th>17168</th>\n",
       "      <td>47bb1cf2-0806-4bcf-a382-ec8090ee8059</td>\n",
       "      <td>МД/Магазин у дома</td>\n",
       "      <td>26</td>\n",
       "      <td>26</td>\n",
       "      <td>2022-11-25 01:49:15.681203</td>\n",
       "      <td>2022-11-25 01:49:38.898344</td>\n",
       "      <td>2022-11-25 02:15:24.555777</td>\n",
       "      <td>25.760957</td>\n",
       "    </tr>\n",
       "    <tr>\n",
       "      <th>17169</th>\n",
       "      <td>3ca7c1d7-fdeb-4c25-97c5-354896ccaccf</td>\n",
       "      <td>МД/Супермаркет</td>\n",
       "      <td>61</td>\n",
       "      <td>25</td>\n",
       "      <td>2022-11-25 01:42:02.964003</td>\n",
       "      <td>2022-11-25 01:43:25.653273</td>\n",
       "      <td>2022-11-25 02:32:30.494006</td>\n",
       "      <td>49.080679</td>\n",
       "    </tr>\n",
       "  </tbody>\n",
       "</table>\n",
       "<p>17170 rows × 8 columns</p>\n",
       "</div>"
      ],
      "text/plain": [
       "                                assembly_id       store_format  goods_amount  \\\n",
       "0      470a14bf-4946-43d3-8393-ee268f0226fc   МД/Мини-Даркстор            16   \n",
       "1      0e1dd7cd-22e9-472d-98be-bd44494eed90   МД/Мини-Даркстор            21   \n",
       "2      fba48d22-4997-47da-a4fa-3c3f99cb5b0a   МД/Мини-Даркстор            40   \n",
       "3      1eed7da3-eaab-4549-b0a7-b76309c76746   МД/Мини-Даркстор            16   \n",
       "4      b8c11ea6-ec02-4fb8-a866-a9765027f12d   МД/Мини-Даркстор            31   \n",
       "...                                     ...                ...           ...   \n",
       "17165  2bc0faf8-7544-41fc-bbf1-998c7fbe83ab     МД/Супермаркет            14   \n",
       "17166  c7527077-74b0-4725-8671-574e0ffe855b     МД/Супермаркет            24   \n",
       "17167  ed81acdc-0014-4764-b38f-ef08b0ab22b0              БФ/L+            14   \n",
       "17168  47bb1cf2-0806-4bcf-a382-ec8090ee8059  МД/Магазин у дома            26   \n",
       "17169  3ca7c1d7-fdeb-4c25-97c5-354896ccaccf     МД/Супермаркет            61   \n",
       "\n",
       "       goods_SKU                      await                   assembly  \\\n",
       "0             11 2022-11-25 19:29:52.724424 2022-11-25 19:29:59.941036   \n",
       "1              6 2022-11-25 19:28:33.460987 2022-11-25 19:53:49.705354   \n",
       "2             21 2022-11-25 19:27:51.784131 2022-11-25 19:34:38.225546   \n",
       "3             15 2022-11-25 19:27:29.864951 2022-11-25 19:27:37.525791   \n",
       "4             23 2022-11-25 19:26:08.755234 2022-11-25 19:31:38.099024   \n",
       "...          ...                        ...                        ...   \n",
       "17165         11 2022-11-25 02:05:32.834498 2022-11-25 02:22:38.412341   \n",
       "17166         19 2022-11-25 02:04:29.087294 2022-11-25 02:11:25.517131   \n",
       "17167         10 2022-11-25 01:52:18.230673 2022-11-25 04:01:39.297215   \n",
       "17168         26 2022-11-25 01:49:15.681203 2022-11-25 01:49:38.898344   \n",
       "17169         25 2022-11-25 01:42:02.964003 2022-11-25 01:43:25.653273   \n",
       "\n",
       "                       assembled  assembling_time  \n",
       "0     2022-11-25 19:35:09.780991         5.163999  \n",
       "1     2022-11-25 20:00:53.648314         7.065716  \n",
       "2     2022-11-25 20:01:12.551313        26.572096  \n",
       "3     2022-11-25 19:36:36.600781         8.984583  \n",
       "4     2022-11-25 19:59:00.194444        27.368257  \n",
       "...                          ...              ...  \n",
       "17165 2022-11-25 02:29:23.059119         6.744113  \n",
       "17166 2022-11-25 02:38:42.955860        27.290645  \n",
       "17167 2022-11-25 04:19:59.540910        18.337395  \n",
       "17168 2022-11-25 02:15:24.555777        25.760957  \n",
       "17169 2022-11-25 02:32:30.494006        49.080679  \n",
       "\n",
       "[17170 rows x 8 columns]"
      ]
     },
     "execution_count": 906,
     "metadata": {},
     "output_type": "execute_result"
    }
   ],
   "source": [
    "# приведем время сборки в адсолютному значению в минутах\n",
    "convert_to_sec = lambda x: x.total_seconds() / 60\n",
    "df['assembling_time'] = df['assembling_time'].apply(convert_to_sec)\n",
    "df"
   ]
  },
  {
   "cell_type": "code",
   "execution_count": 907,
   "id": "147e6f9d",
   "metadata": {
    "scrolled": true
   },
   "outputs": [
    {
     "data": {
      "text/plain": [
       "assembly_id                object\n",
       "store_format               object\n",
       "goods_amount                int64\n",
       "goods_SKU                   int64\n",
       "await              datetime64[ns]\n",
       "assembly           datetime64[ns]\n",
       "assembled          datetime64[ns]\n",
       "assembling_time           float64\n",
       "dtype: object"
      ]
     },
     "execution_count": 907,
     "metadata": {},
     "output_type": "execute_result"
    }
   ],
   "source": [
    "# проверим все ли в порядке с типами данных после преобразований\n",
    "df.dtypes"
   ]
  },
  {
   "cell_type": "markdown",
   "id": "5d392ea0",
   "metadata": {},
   "source": [
    "Теперь избавимся от лишних категориальных признаков, которые не будут применяться в обучении модели."
   ]
  },
  {
   "cell_type": "code",
   "execution_count": 908,
   "id": "e92a95a8",
   "metadata": {
    "scrolled": true
   },
   "outputs": [
    {
     "data": {
      "text/html": [
       "<div>\n",
       "<style scoped>\n",
       "    .dataframe tbody tr th:only-of-type {\n",
       "        vertical-align: middle;\n",
       "    }\n",
       "\n",
       "    .dataframe tbody tr th {\n",
       "        vertical-align: top;\n",
       "    }\n",
       "\n",
       "    .dataframe thead th {\n",
       "        text-align: right;\n",
       "    }\n",
       "</style>\n",
       "<table border=\"1\" class=\"dataframe\">\n",
       "  <thead>\n",
       "    <tr style=\"text-align: right;\">\n",
       "      <th></th>\n",
       "      <th>assembly_id</th>\n",
       "      <th>store_format</th>\n",
       "      <th>goods_amount</th>\n",
       "      <th>goods_SKU</th>\n",
       "      <th>await</th>\n",
       "      <th>assembly</th>\n",
       "      <th>assembled</th>\n",
       "      <th>assembling_time</th>\n",
       "    </tr>\n",
       "  </thead>\n",
       "  <tbody>\n",
       "    <tr>\n",
       "      <th>0</th>\n",
       "      <td>470a14bf-4946-43d3-8393-ee268f0226fc</td>\n",
       "      <td>МД/Мини-Даркстор</td>\n",
       "      <td>16</td>\n",
       "      <td>11</td>\n",
       "      <td>2022-11-25 19:29:52.724424</td>\n",
       "      <td>2022-11-25 19:29:59.941036</td>\n",
       "      <td>2022-11-25 19:35:09.780991</td>\n",
       "      <td>5.163999</td>\n",
       "    </tr>\n",
       "    <tr>\n",
       "      <th>1</th>\n",
       "      <td>0e1dd7cd-22e9-472d-98be-bd44494eed90</td>\n",
       "      <td>МД/Мини-Даркстор</td>\n",
       "      <td>21</td>\n",
       "      <td>6</td>\n",
       "      <td>2022-11-25 19:28:33.460987</td>\n",
       "      <td>2022-11-25 19:53:49.705354</td>\n",
       "      <td>2022-11-25 20:00:53.648314</td>\n",
       "      <td>7.065716</td>\n",
       "    </tr>\n",
       "    <tr>\n",
       "      <th>2</th>\n",
       "      <td>fba48d22-4997-47da-a4fa-3c3f99cb5b0a</td>\n",
       "      <td>МД/Мини-Даркстор</td>\n",
       "      <td>40</td>\n",
       "      <td>21</td>\n",
       "      <td>2022-11-25 19:27:51.784131</td>\n",
       "      <td>2022-11-25 19:34:38.225546</td>\n",
       "      <td>2022-11-25 20:01:12.551313</td>\n",
       "      <td>26.572096</td>\n",
       "    </tr>\n",
       "    <tr>\n",
       "      <th>3</th>\n",
       "      <td>1eed7da3-eaab-4549-b0a7-b76309c76746</td>\n",
       "      <td>МД/Мини-Даркстор</td>\n",
       "      <td>16</td>\n",
       "      <td>15</td>\n",
       "      <td>2022-11-25 19:27:29.864951</td>\n",
       "      <td>2022-11-25 19:27:37.525791</td>\n",
       "      <td>2022-11-25 19:36:36.600781</td>\n",
       "      <td>8.984583</td>\n",
       "    </tr>\n",
       "    <tr>\n",
       "      <th>4</th>\n",
       "      <td>b8c11ea6-ec02-4fb8-a866-a9765027f12d</td>\n",
       "      <td>МД/Мини-Даркстор</td>\n",
       "      <td>31</td>\n",
       "      <td>23</td>\n",
       "      <td>2022-11-25 19:26:08.755234</td>\n",
       "      <td>2022-11-25 19:31:38.099024</td>\n",
       "      <td>2022-11-25 19:59:00.194444</td>\n",
       "      <td>27.368257</td>\n",
       "    </tr>\n",
       "  </tbody>\n",
       "</table>\n",
       "</div>"
      ],
      "text/plain": [
       "                            assembly_id      store_format  goods_amount  \\\n",
       "0  470a14bf-4946-43d3-8393-ee268f0226fc  МД/Мини-Даркстор            16   \n",
       "1  0e1dd7cd-22e9-472d-98be-bd44494eed90  МД/Мини-Даркстор            21   \n",
       "2  fba48d22-4997-47da-a4fa-3c3f99cb5b0a  МД/Мини-Даркстор            40   \n",
       "3  1eed7da3-eaab-4549-b0a7-b76309c76746  МД/Мини-Даркстор            16   \n",
       "4  b8c11ea6-ec02-4fb8-a866-a9765027f12d  МД/Мини-Даркстор            31   \n",
       "\n",
       "   goods_SKU                      await                   assembly  \\\n",
       "0         11 2022-11-25 19:29:52.724424 2022-11-25 19:29:59.941036   \n",
       "1          6 2022-11-25 19:28:33.460987 2022-11-25 19:53:49.705354   \n",
       "2         21 2022-11-25 19:27:51.784131 2022-11-25 19:34:38.225546   \n",
       "3         15 2022-11-25 19:27:29.864951 2022-11-25 19:27:37.525791   \n",
       "4         23 2022-11-25 19:26:08.755234 2022-11-25 19:31:38.099024   \n",
       "\n",
       "                   assembled  assembling_time  \n",
       "0 2022-11-25 19:35:09.780991         5.163999  \n",
       "1 2022-11-25 20:00:53.648314         7.065716  \n",
       "2 2022-11-25 20:01:12.551313        26.572096  \n",
       "3 2022-11-25 19:36:36.600781         8.984583  \n",
       "4 2022-11-25 19:59:00.194444        27.368257  "
      ]
     },
     "execution_count": 908,
     "metadata": {},
     "output_type": "execute_result"
    }
   ],
   "source": [
    "df.head()"
   ]
  },
  {
   "cell_type": "code",
   "execution_count": 909,
   "id": "9ad59b65",
   "metadata": {
    "scrolled": true
   },
   "outputs": [
    {
     "data": {
      "text/plain": [
       "['store_format', 'goods_amount', 'goods_SKU', 'assembling_time']"
      ]
     },
     "execution_count": 909,
     "metadata": {},
     "output_type": "execute_result"
    }
   ],
   "source": [
    "# создадим список необходимых для обучения столбцов\n",
    "target_cols = df.columns.tolist()\n",
    "target_cols.insert(4, 'assembling_time')\n",
    "target_cols.remove('assembly_id')\n",
    "target_cols = target_cols[:4]\n",
    "target_cols"
   ]
  },
  {
   "cell_type": "code",
   "execution_count": 910,
   "id": "70d815de",
   "metadata": {
    "scrolled": false
   },
   "outputs": [
    {
     "data": {
      "text/html": [
       "<div>\n",
       "<style scoped>\n",
       "    .dataframe tbody tr th:only-of-type {\n",
       "        vertical-align: middle;\n",
       "    }\n",
       "\n",
       "    .dataframe tbody tr th {\n",
       "        vertical-align: top;\n",
       "    }\n",
       "\n",
       "    .dataframe thead th {\n",
       "        text-align: right;\n",
       "    }\n",
       "</style>\n",
       "<table border=\"1\" class=\"dataframe\">\n",
       "  <thead>\n",
       "    <tr style=\"text-align: right;\">\n",
       "      <th></th>\n",
       "      <th>store_format</th>\n",
       "      <th>goods_amount</th>\n",
       "      <th>goods_SKU</th>\n",
       "      <th>assembling_time</th>\n",
       "    </tr>\n",
       "  </thead>\n",
       "  <tbody>\n",
       "    <tr>\n",
       "      <th>0</th>\n",
       "      <td>МД/Мини-Даркстор</td>\n",
       "      <td>16</td>\n",
       "      <td>11</td>\n",
       "      <td>5.163999</td>\n",
       "    </tr>\n",
       "    <tr>\n",
       "      <th>1</th>\n",
       "      <td>МД/Мини-Даркстор</td>\n",
       "      <td>21</td>\n",
       "      <td>6</td>\n",
       "      <td>7.065716</td>\n",
       "    </tr>\n",
       "    <tr>\n",
       "      <th>2</th>\n",
       "      <td>МД/Мини-Даркстор</td>\n",
       "      <td>40</td>\n",
       "      <td>21</td>\n",
       "      <td>26.572096</td>\n",
       "    </tr>\n",
       "    <tr>\n",
       "      <th>3</th>\n",
       "      <td>МД/Мини-Даркстор</td>\n",
       "      <td>16</td>\n",
       "      <td>15</td>\n",
       "      <td>8.984583</td>\n",
       "    </tr>\n",
       "    <tr>\n",
       "      <th>4</th>\n",
       "      <td>МД/Мини-Даркстор</td>\n",
       "      <td>31</td>\n",
       "      <td>23</td>\n",
       "      <td>27.368257</td>\n",
       "    </tr>\n",
       "    <tr>\n",
       "      <th>...</th>\n",
       "      <td>...</td>\n",
       "      <td>...</td>\n",
       "      <td>...</td>\n",
       "      <td>...</td>\n",
       "    </tr>\n",
       "    <tr>\n",
       "      <th>17165</th>\n",
       "      <td>МД/Супермаркет</td>\n",
       "      <td>14</td>\n",
       "      <td>11</td>\n",
       "      <td>6.744113</td>\n",
       "    </tr>\n",
       "    <tr>\n",
       "      <th>17166</th>\n",
       "      <td>МД/Супермаркет</td>\n",
       "      <td>24</td>\n",
       "      <td>19</td>\n",
       "      <td>27.290645</td>\n",
       "    </tr>\n",
       "    <tr>\n",
       "      <th>17167</th>\n",
       "      <td>БФ/L+</td>\n",
       "      <td>14</td>\n",
       "      <td>10</td>\n",
       "      <td>18.337395</td>\n",
       "    </tr>\n",
       "    <tr>\n",
       "      <th>17168</th>\n",
       "      <td>МД/Магазин у дома</td>\n",
       "      <td>26</td>\n",
       "      <td>26</td>\n",
       "      <td>25.760957</td>\n",
       "    </tr>\n",
       "    <tr>\n",
       "      <th>17169</th>\n",
       "      <td>МД/Супермаркет</td>\n",
       "      <td>61</td>\n",
       "      <td>25</td>\n",
       "      <td>49.080679</td>\n",
       "    </tr>\n",
       "  </tbody>\n",
       "</table>\n",
       "<p>17170 rows × 4 columns</p>\n",
       "</div>"
      ],
      "text/plain": [
       "            store_format  goods_amount  goods_SKU  assembling_time\n",
       "0       МД/Мини-Даркстор            16         11         5.163999\n",
       "1       МД/Мини-Даркстор            21          6         7.065716\n",
       "2       МД/Мини-Даркстор            40         21        26.572096\n",
       "3       МД/Мини-Даркстор            16         15         8.984583\n",
       "4       МД/Мини-Даркстор            31         23        27.368257\n",
       "...                  ...           ...        ...              ...\n",
       "17165     МД/Супермаркет            14         11         6.744113\n",
       "17166     МД/Супермаркет            24         19        27.290645\n",
       "17167              БФ/L+            14         10        18.337395\n",
       "17168  МД/Магазин у дома            26         26        25.760957\n",
       "17169     МД/Супермаркет            61         25        49.080679\n",
       "\n",
       "[17170 rows x 4 columns]"
      ]
     },
     "execution_count": 910,
     "metadata": {},
     "output_type": "execute_result"
    }
   ],
   "source": [
    "# создадим новый датафрейм с нужными столбцами\n",
    "df = df[target_cols]\n",
    "df"
   ]
  },
  {
   "cell_type": "markdown",
   "id": "2b5a5d84",
   "metadata": {},
   "source": [
    "### Избавляемся от выбросов"
   ]
  },
  {
   "cell_type": "code",
   "execution_count": 911,
   "id": "6f53288a",
   "metadata": {
    "scrolled": false
   },
   "outputs": [
    {
     "data": {
      "text/html": [
       "<div>\n",
       "<style scoped>\n",
       "    .dataframe tbody tr th:only-of-type {\n",
       "        vertical-align: middle;\n",
       "    }\n",
       "\n",
       "    .dataframe tbody tr th {\n",
       "        vertical-align: top;\n",
       "    }\n",
       "\n",
       "    .dataframe thead th {\n",
       "        text-align: right;\n",
       "    }\n",
       "</style>\n",
       "<table border=\"1\" class=\"dataframe\">\n",
       "  <thead>\n",
       "    <tr style=\"text-align: right;\">\n",
       "      <th></th>\n",
       "      <th>goods_amount</th>\n",
       "      <th>goods_SKU</th>\n",
       "      <th>assembling_time</th>\n",
       "    </tr>\n",
       "    <tr>\n",
       "      <th>store_format</th>\n",
       "      <th></th>\n",
       "      <th></th>\n",
       "      <th></th>\n",
       "    </tr>\n",
       "  </thead>\n",
       "  <tbody>\n",
       "    <tr>\n",
       "      <th>БФ/M+</th>\n",
       "      <td>36.344000</td>\n",
       "      <td>20.552000</td>\n",
       "      <td>38.359458</td>\n",
       "    </tr>\n",
       "    <tr>\n",
       "      <th>БФ/XS</th>\n",
       "      <td>36.695652</td>\n",
       "      <td>24.826087</td>\n",
       "      <td>34.214489</td>\n",
       "    </tr>\n",
       "    <tr>\n",
       "      <th>БФ/S+</th>\n",
       "      <td>34.666667</td>\n",
       "      <td>21.071038</td>\n",
       "      <td>33.678115</td>\n",
       "    </tr>\n",
       "    <tr>\n",
       "      <th>БФ/S</th>\n",
       "      <td>32.476190</td>\n",
       "      <td>19.206349</td>\n",
       "      <td>31.637828</td>\n",
       "    </tr>\n",
       "    <tr>\n",
       "      <th>БФ/L+</th>\n",
       "      <td>35.918605</td>\n",
       "      <td>20.356589</td>\n",
       "      <td>30.452585</td>\n",
       "    </tr>\n",
       "    <tr>\n",
       "      <th>БФ/L</th>\n",
       "      <td>36.828571</td>\n",
       "      <td>24.171429</td>\n",
       "      <td>29.728951</td>\n",
       "    </tr>\n",
       "    <tr>\n",
       "      <th>ГМ/L</th>\n",
       "      <td>42.888889</td>\n",
       "      <td>24.444444</td>\n",
       "      <td>27.941709</td>\n",
       "    </tr>\n",
       "    <tr>\n",
       "      <th>БФ/M</th>\n",
       "      <td>34.392857</td>\n",
       "      <td>19.250000</td>\n",
       "      <td>27.647417</td>\n",
       "    </tr>\n",
       "    <tr>\n",
       "      <th>МД/Дискаунтер</th>\n",
       "      <td>26.400000</td>\n",
       "      <td>20.600000</td>\n",
       "      <td>18.647151</td>\n",
       "    </tr>\n",
       "    <tr>\n",
       "      <th>МД/Мини-Даркстор</th>\n",
       "      <td>27.292100</td>\n",
       "      <td>17.107762</td>\n",
       "      <td>17.719151</td>\n",
       "    </tr>\n",
       "    <tr>\n",
       "      <th>МД/Супермаркет</th>\n",
       "      <td>22.869450</td>\n",
       "      <td>14.907130</td>\n",
       "      <td>16.574442</td>\n",
       "    </tr>\n",
       "    <tr>\n",
       "      <th>МД/Магазин у дома</th>\n",
       "      <td>22.967898</td>\n",
       "      <td>15.052408</td>\n",
       "      <td>16.194383</td>\n",
       "    </tr>\n",
       "    <tr>\n",
       "      <th>МД/ММ+</th>\n",
       "      <td>20.431373</td>\n",
       "      <td>12.803922</td>\n",
       "      <td>15.523762</td>\n",
       "    </tr>\n",
       "    <tr>\n",
       "      <th>МК/Мини МК</th>\n",
       "      <td>5.000000</td>\n",
       "      <td>5.000000</td>\n",
       "      <td>7.060018</td>\n",
       "    </tr>\n",
       "    <tr>\n",
       "      <th>МК/Город МК</th>\n",
       "      <td>12.177291</td>\n",
       "      <td>7.862550</td>\n",
       "      <td>6.412225</td>\n",
       "    </tr>\n",
       "    <tr>\n",
       "      <th>МК/Мегаполис МК</th>\n",
       "      <td>10.260664</td>\n",
       "      <td>6.926540</td>\n",
       "      <td>6.079220</td>\n",
       "    </tr>\n",
       "    <tr>\n",
       "      <th>МК/Деревня МК</th>\n",
       "      <td>11.333333</td>\n",
       "      <td>8.354167</td>\n",
       "      <td>5.745475</td>\n",
       "    </tr>\n",
       "    <tr>\n",
       "      <th>МК/Магнит-Мастер</th>\n",
       "      <td>1.000000</td>\n",
       "      <td>1.000000</td>\n",
       "      <td>1.370220</td>\n",
       "    </tr>\n",
       "  </tbody>\n",
       "</table>\n",
       "</div>"
      ],
      "text/plain": [
       "                   goods_amount  goods_SKU  assembling_time\n",
       "store_format                                               \n",
       "БФ/M+                 36.344000  20.552000        38.359458\n",
       "БФ/XS                 36.695652  24.826087        34.214489\n",
       "БФ/S+                 34.666667  21.071038        33.678115\n",
       "БФ/S                  32.476190  19.206349        31.637828\n",
       "БФ/L+                 35.918605  20.356589        30.452585\n",
       "БФ/L                  36.828571  24.171429        29.728951\n",
       "ГМ/L                  42.888889  24.444444        27.941709\n",
       "БФ/M                  34.392857  19.250000        27.647417\n",
       "МД/Дискаунтер         26.400000  20.600000        18.647151\n",
       "МД/Мини-Даркстор      27.292100  17.107762        17.719151\n",
       "МД/Супермаркет        22.869450  14.907130        16.574442\n",
       "МД/Магазин у дома     22.967898  15.052408        16.194383\n",
       "МД/ММ+                20.431373  12.803922        15.523762\n",
       "МК/Мини МК             5.000000   5.000000         7.060018\n",
       "МК/Город МК           12.177291   7.862550         6.412225\n",
       "МК/Мегаполис МК       10.260664   6.926540         6.079220\n",
       "МК/Деревня МК         11.333333   8.354167         5.745475\n",
       "МК/Магнит-Мастер       1.000000   1.000000         1.370220"
      ]
     },
     "execution_count": 911,
     "metadata": {},
     "output_type": "execute_result"
    }
   ],
   "source": [
    "# посмотрим на средние значения времени сборки, количество товаров и уникальных позиций в заказе\n",
    "df.groupby('store_format').agg('mean').sort_values(by=['assembling_time'], ascending=False)"
   ]
  },
  {
   "cell_type": "code",
   "execution_count": 912,
   "id": "b099e68d",
   "metadata": {
    "scrolled": false
   },
   "outputs": [
    {
     "data": {
      "text/plain": [
       "count    17170.000000\n",
       "mean        16.948563\n",
       "std         14.404683\n",
       "min          0.200885\n",
       "25%          7.720592\n",
       "50%         13.372970\n",
       "75%         22.128953\n",
       "max        456.395508\n",
       "Name: assembling_time, dtype: float64"
      ]
     },
     "execution_count": 912,
     "metadata": {},
     "output_type": "execute_result"
    }
   ],
   "source": [
    "# посмотрим на статистики таргета\n",
    "df.assembling_time.describe()"
   ]
  },
  {
   "cell_type": "code",
   "execution_count": 913,
   "id": "1a11db4a",
   "metadata": {
    "scrolled": false
   },
   "outputs": [
    {
     "data": {
      "image/png": "[encoded data removed]",
      "text/plain": [
       "<Figure size 432x288 with 1 Axes>"
      ]
     },
     "metadata": {},
     "output_type": "display_data"
    }
   ],
   "source": [
    "# посмотрим как распределяется время сборки по значениям\n",
    "for i in df.columns:\n",
    "    df['assembling_time'].hist(bins=100)"
   ]
  },
  {
   "cell_type": "code",
   "execution_count": 914,
   "id": "74e44094",
   "metadata": {
    "scrolled": false
   },
   "outputs": [
    {
     "data": {
      "text/html": [
       "<div>\n",
       "<style scoped>\n",
       "    .dataframe tbody tr th:only-of-type {\n",
       "        vertical-align: middle;\n",
       "    }\n",
       "\n",
       "    .dataframe tbody tr th {\n",
       "        vertical-align: top;\n",
       "    }\n",
       "\n",
       "    .dataframe thead tr th {\n",
       "        text-align: left;\n",
       "    }\n",
       "\n",
       "    .dataframe thead tr:last-of-type th {\n",
       "        text-align: right;\n",
       "    }\n",
       "</style>\n",
       "<table border=\"1\" class=\"dataframe\">\n",
       "  <thead>\n",
       "    <tr>\n",
       "      <th></th>\n",
       "      <th colspan=\"4\" halign=\"left\">assembling_time</th>\n",
       "    </tr>\n",
       "    <tr>\n",
       "      <th></th>\n",
       "      <th>mean</th>\n",
       "      <th>std</th>\n",
       "      <th>min</th>\n",
       "      <th>max</th>\n",
       "    </tr>\n",
       "    <tr>\n",
       "      <th>store_format</th>\n",
       "      <th></th>\n",
       "      <th></th>\n",
       "      <th></th>\n",
       "      <th></th>\n",
       "    </tr>\n",
       "  </thead>\n",
       "  <tbody>\n",
       "    <tr>\n",
       "      <th>БФ/L</th>\n",
       "      <td>29.728951</td>\n",
       "      <td>14.507303</td>\n",
       "      <td>9.158526</td>\n",
       "      <td>67.178057</td>\n",
       "    </tr>\n",
       "    <tr>\n",
       "      <th>БФ/L+</th>\n",
       "      <td>30.452585</td>\n",
       "      <td>15.966508</td>\n",
       "      <td>4.123203</td>\n",
       "      <td>89.492698</td>\n",
       "    </tr>\n",
       "    <tr>\n",
       "      <th>БФ/M</th>\n",
       "      <td>27.647417</td>\n",
       "      <td>11.281734</td>\n",
       "      <td>7.826692</td>\n",
       "      <td>57.692215</td>\n",
       "    </tr>\n",
       "    <tr>\n",
       "      <th>БФ/M+</th>\n",
       "      <td>38.359458</td>\n",
       "      <td>20.464878</td>\n",
       "      <td>3.957464</td>\n",
       "      <td>129.016975</td>\n",
       "    </tr>\n",
       "    <tr>\n",
       "      <th>БФ/S</th>\n",
       "      <td>31.637828</td>\n",
       "      <td>15.860268</td>\n",
       "      <td>4.701333</td>\n",
       "      <td>84.821446</td>\n",
       "    </tr>\n",
       "    <tr>\n",
       "      <th>БФ/S+</th>\n",
       "      <td>33.678115</td>\n",
       "      <td>17.964092</td>\n",
       "      <td>2.899790</td>\n",
       "      <td>115.886895</td>\n",
       "    </tr>\n",
       "    <tr>\n",
       "      <th>БФ/XS</th>\n",
       "      <td>34.214489</td>\n",
       "      <td>20.060123</td>\n",
       "      <td>4.122111</td>\n",
       "      <td>73.421160</td>\n",
       "    </tr>\n",
       "    <tr>\n",
       "      <th>ГМ/L</th>\n",
       "      <td>27.941709</td>\n",
       "      <td>14.671982</td>\n",
       "      <td>6.361601</td>\n",
       "      <td>63.520451</td>\n",
       "    </tr>\n",
       "    <tr>\n",
       "      <th>МД/Дискаунтер</th>\n",
       "      <td>18.647151</td>\n",
       "      <td>15.191807</td>\n",
       "      <td>5.319695</td>\n",
       "      <td>44.801181</td>\n",
       "    </tr>\n",
       "    <tr>\n",
       "      <th>МД/ММ+</th>\n",
       "      <td>15.523762</td>\n",
       "      <td>9.960617</td>\n",
       "      <td>2.215733</td>\n",
       "      <td>47.141653</td>\n",
       "    </tr>\n",
       "    <tr>\n",
       "      <th>МД/Магазин у дома</th>\n",
       "      <td>16.194383</td>\n",
       "      <td>13.728330</td>\n",
       "      <td>0.200885</td>\n",
       "      <td>252.904765</td>\n",
       "    </tr>\n",
       "    <tr>\n",
       "      <th>МД/Мини-Даркстор</th>\n",
       "      <td>17.719151</td>\n",
       "      <td>12.119353</td>\n",
       "      <td>0.722100</td>\n",
       "      <td>106.339244</td>\n",
       "    </tr>\n",
       "    <tr>\n",
       "      <th>МД/Супермаркет</th>\n",
       "      <td>16.574442</td>\n",
       "      <td>14.355406</td>\n",
       "      <td>0.288508</td>\n",
       "      <td>456.395508</td>\n",
       "    </tr>\n",
       "    <tr>\n",
       "      <th>МК/Город МК</th>\n",
       "      <td>6.412225</td>\n",
       "      <td>8.087118</td>\n",
       "      <td>0.379339</td>\n",
       "      <td>141.063138</td>\n",
       "    </tr>\n",
       "    <tr>\n",
       "      <th>МК/Деревня МК</th>\n",
       "      <td>5.745475</td>\n",
       "      <td>4.111623</td>\n",
       "      <td>0.703012</td>\n",
       "      <td>16.726836</td>\n",
       "    </tr>\n",
       "    <tr>\n",
       "      <th>МК/Магнит-Мастер</th>\n",
       "      <td>1.370220</td>\n",
       "      <td>NaN</td>\n",
       "      <td>1.370220</td>\n",
       "      <td>1.370220</td>\n",
       "    </tr>\n",
       "    <tr>\n",
       "      <th>МК/Мегаполис МК</th>\n",
       "      <td>6.079220</td>\n",
       "      <td>6.385927</td>\n",
       "      <td>0.447881</td>\n",
       "      <td>73.440838</td>\n",
       "    </tr>\n",
       "    <tr>\n",
       "      <th>МК/Мини МК</th>\n",
       "      <td>7.060018</td>\n",
       "      <td>NaN</td>\n",
       "      <td>7.060018</td>\n",
       "      <td>7.060018</td>\n",
       "    </tr>\n",
       "  </tbody>\n",
       "</table>\n",
       "</div>"
      ],
      "text/plain": [
       "                  assembling_time                                 \n",
       "                             mean        std       min         max\n",
       "store_format                                                      \n",
       "БФ/L                    29.728951  14.507303  9.158526   67.178057\n",
       "БФ/L+                   30.452585  15.966508  4.123203   89.492698\n",
       "БФ/M                    27.647417  11.281734  7.826692   57.692215\n",
       "БФ/M+                   38.359458  20.464878  3.957464  129.016975\n",
       "БФ/S                    31.637828  15.860268  4.701333   84.821446\n",
       "БФ/S+                   33.678115  17.964092  2.899790  115.886895\n",
       "БФ/XS                   34.214489  20.060123  4.122111   73.421160\n",
       "ГМ/L                    27.941709  14.671982  6.361601   63.520451\n",
       "МД/Дискаунтер           18.647151  15.191807  5.319695   44.801181\n",
       "МД/ММ+                  15.523762   9.960617  2.215733   47.141653\n",
       "МД/Магазин у дома       16.194383  13.728330  0.200885  252.904765\n",
       "МД/Мини-Даркстор        17.719151  12.119353  0.722100  106.339244\n",
       "МД/Супермаркет          16.574442  14.355406  0.288508  456.395508\n",
       "МК/Город МК              6.412225   8.087118  0.379339  141.063138\n",
       "МК/Деревня МК            5.745475   4.111623  0.703012   16.726836\n",
       "МК/Магнит-Мастер         1.370220        NaN  1.370220    1.370220\n",
       "МК/Мегаполис МК          6.079220   6.385927  0.447881   73.440838\n",
       "МК/Мини МК               7.060018        NaN  7.060018    7.060018"
      ]
     },
     "execution_count": 914,
     "metadata": {},
     "output_type": "execute_result"
    }
   ],
   "source": [
    "# посмотрим как распределяется время сборки по форматам ТО\n",
    "func_agg = {\n",
    "    'assembling_time': ['mean', 'std', 'min', 'max']\n",
    "}\n",
    "df.groupby('store_format').agg(func_agg)"
   ]
  },
  {
   "cell_type": "markdown",
   "id": "0417bfd3",
   "metadata": {},
   "source": [
    "Исходя из значений минимумов, максимумов и «длинного хвоста» на графике видим, что есть выбросы, от которых следует избавиться."
   ]
  },
  {
   "cell_type": "code",
   "execution_count": 915,
   "id": "77f53d94",
   "metadata": {},
   "outputs": [
    {
     "data": {
      "text/plain": [
       "(17170, 4)"
      ]
     },
     "execution_count": 915,
     "metadata": {},
     "output_type": "execute_result"
    }
   ],
   "source": [
    "df.shape"
   ]
  },
  {
   "cell_type": "code",
   "execution_count": 916,
   "id": "0ea9611d",
   "metadata": {},
   "outputs": [
    {
     "data": {
      "text/plain": [
       "goods_amount       3.000000\n",
       "goods_SKU          1.000000\n",
       "assembling_time    1.539508\n",
       "Name: 0.01, dtype: float64"
      ]
     },
     "execution_count": 916,
     "metadata": {},
     "output_type": "execute_result"
    }
   ],
   "source": [
    "df.quantile(0.01)"
   ]
  },
  {
   "cell_type": "code",
   "execution_count": 917,
   "id": "3e956a09",
   "metadata": {},
   "outputs": [
    {
     "data": {
      "text/plain": [
       "goods_amount       82.310000\n",
       "goods_SKU          48.000000\n",
       "assembling_time    64.380596\n",
       "Name: 0.99, dtype: float64"
      ]
     },
     "execution_count": 917,
     "metadata": {},
     "output_type": "execute_result"
    }
   ],
   "source": [
    "df.quantile(0.99)"
   ]
  },
  {
   "cell_type": "code",
   "execution_count": 918,
   "id": "5b1fc08b",
   "metadata": {},
   "outputs": [],
   "source": [
    "data = df.copy()\n",
    "data.drop(df[df.assembling_time < 1.539508].index, axis=0, inplace=True)\n",
    "data.drop(df[df.assembling_time > 64.380596].index, axis=0, inplace=True)"
   ]
  },
  {
   "cell_type": "code",
   "execution_count": 919,
   "id": "e30301d2",
   "metadata": {
    "scrolled": false
   },
   "outputs": [
    {
     "data": {
      "text/plain": [
       "(16826, 4)"
      ]
     },
     "execution_count": 919,
     "metadata": {},
     "output_type": "execute_result"
    }
   ],
   "source": [
    "data.shape"
   ]
  },
  {
   "cell_type": "code",
   "execution_count": 920,
   "id": "389f3afe",
   "metadata": {
    "scrolled": false
   },
   "outputs": [
    {
     "data": {
      "image/png": "[encoded data removed]",
      "text/plain": [
       "<Figure size 1152x576 with 1 Axes>"
      ]
     },
     "metadata": {},
     "output_type": "display_data"
    }
   ],
   "source": [
    "plt.figure(figsize=(16,8))\n",
    "sns.set_style('darkgrid')\n",
    "sns.scatterplot(x='assembling_time', y='goods_amount', data=data, edgecolor='black', palette='cubehelix')\n",
    "plt.show()"
   ]
  },
  {
   "cell_type": "code",
   "execution_count": 921,
   "id": "3ab39af8",
   "metadata": {},
   "outputs": [],
   "source": [
    "# можно поэксперементировать с ограничением количества товаров в сборке\n",
    "#data.drop(df[df.goods_amount > 100].index, axis=0, inplace=True)"
   ]
  },
  {
   "cell_type": "markdown",
   "id": "3ed32c21",
   "metadata": {},
   "source": [
    "### Категоризуем нечисловые данные"
   ]
  },
  {
   "cell_type": "code",
   "execution_count": 922,
   "id": "fbcb5f70",
   "metadata": {
    "scrolled": false
   },
   "outputs": [
    {
     "data": {
      "text/html": [
       "<div>\n",
       "<style scoped>\n",
       "    .dataframe tbody tr th:only-of-type {\n",
       "        vertical-align: middle;\n",
       "    }\n",
       "\n",
       "    .dataframe tbody tr th {\n",
       "        vertical-align: top;\n",
       "    }\n",
       "\n",
       "    .dataframe thead th {\n",
       "        text-align: right;\n",
       "    }\n",
       "</style>\n",
       "<table border=\"1\" class=\"dataframe\">\n",
       "  <thead>\n",
       "    <tr style=\"text-align: right;\">\n",
       "      <th></th>\n",
       "      <th>store_format</th>\n",
       "      <th>goods_amount</th>\n",
       "      <th>goods_SKU</th>\n",
       "      <th>assembling_time</th>\n",
       "    </tr>\n",
       "  </thead>\n",
       "  <tbody>\n",
       "    <tr>\n",
       "      <th>0</th>\n",
       "      <td>МД/Мини-Даркстор</td>\n",
       "      <td>16</td>\n",
       "      <td>11</td>\n",
       "      <td>5.163999</td>\n",
       "    </tr>\n",
       "    <tr>\n",
       "      <th>1</th>\n",
       "      <td>МД/Мини-Даркстор</td>\n",
       "      <td>21</td>\n",
       "      <td>6</td>\n",
       "      <td>7.065716</td>\n",
       "    </tr>\n",
       "    <tr>\n",
       "      <th>2</th>\n",
       "      <td>МД/Мини-Даркстор</td>\n",
       "      <td>40</td>\n",
       "      <td>21</td>\n",
       "      <td>26.572096</td>\n",
       "    </tr>\n",
       "    <tr>\n",
       "      <th>3</th>\n",
       "      <td>МД/Мини-Даркстор</td>\n",
       "      <td>16</td>\n",
       "      <td>15</td>\n",
       "      <td>8.984583</td>\n",
       "    </tr>\n",
       "    <tr>\n",
       "      <th>4</th>\n",
       "      <td>МД/Мини-Даркстор</td>\n",
       "      <td>31</td>\n",
       "      <td>23</td>\n",
       "      <td>27.368257</td>\n",
       "    </tr>\n",
       "    <tr>\n",
       "      <th>...</th>\n",
       "      <td>...</td>\n",
       "      <td>...</td>\n",
       "      <td>...</td>\n",
       "      <td>...</td>\n",
       "    </tr>\n",
       "    <tr>\n",
       "      <th>17165</th>\n",
       "      <td>МД/Супермаркет</td>\n",
       "      <td>14</td>\n",
       "      <td>11</td>\n",
       "      <td>6.744113</td>\n",
       "    </tr>\n",
       "    <tr>\n",
       "      <th>17166</th>\n",
       "      <td>МД/Супермаркет</td>\n",
       "      <td>24</td>\n",
       "      <td>19</td>\n",
       "      <td>27.290645</td>\n",
       "    </tr>\n",
       "    <tr>\n",
       "      <th>17167</th>\n",
       "      <td>БФ/L+</td>\n",
       "      <td>14</td>\n",
       "      <td>10</td>\n",
       "      <td>18.337395</td>\n",
       "    </tr>\n",
       "    <tr>\n",
       "      <th>17168</th>\n",
       "      <td>МД/Магазин у дома</td>\n",
       "      <td>26</td>\n",
       "      <td>26</td>\n",
       "      <td>25.760957</td>\n",
       "    </tr>\n",
       "    <tr>\n",
       "      <th>17169</th>\n",
       "      <td>МД/Супермаркет</td>\n",
       "      <td>61</td>\n",
       "      <td>25</td>\n",
       "      <td>49.080679</td>\n",
       "    </tr>\n",
       "  </tbody>\n",
       "</table>\n",
       "<p>16826 rows × 4 columns</p>\n",
       "</div>"
      ],
      "text/plain": [
       "            store_format  goods_amount  goods_SKU  assembling_time\n",
       "0       МД/Мини-Даркстор            16         11         5.163999\n",
       "1       МД/Мини-Даркстор            21          6         7.065716\n",
       "2       МД/Мини-Даркстор            40         21        26.572096\n",
       "3       МД/Мини-Даркстор            16         15         8.984583\n",
       "4       МД/Мини-Даркстор            31         23        27.368257\n",
       "...                  ...           ...        ...              ...\n",
       "17165     МД/Супермаркет            14         11         6.744113\n",
       "17166     МД/Супермаркет            24         19        27.290645\n",
       "17167              БФ/L+            14         10        18.337395\n",
       "17168  МД/Магазин у дома            26         26        25.760957\n",
       "17169     МД/Супермаркет            61         25        49.080679\n",
       "\n",
       "[16826 rows x 4 columns]"
      ]
     },
     "execution_count": 922,
     "metadata": {},
     "output_type": "execute_result"
    }
   ],
   "source": [
    "data"
   ]
  },
  {
   "cell_type": "code",
   "execution_count": 923,
   "id": "fa581a98",
   "metadata": {
    "scrolled": false
   },
   "outputs": [
    {
     "data": {
      "text/plain": [
       "МД/Супермаркет       7033\n",
       "МД/Магазин у дома    5081\n",
       "МД/Мини-Даркстор     2856\n",
       "МК/Город МК           463\n",
       "МК/Мегаполис МК       393\n",
       "БФ/S+                 345\n",
       "БФ/L+                 251\n",
       "БФ/M+                 114\n",
       "БФ/S                   60\n",
       "БФ/M                   56\n",
       "МД/ММ+                 51\n",
       "МК/Деревня МК          45\n",
       "БФ/L                   34\n",
       "БФ/XS                  20\n",
       "ГМ/L                   18\n",
       "МД/Дискаунтер           5\n",
       "МК/Мини МК              1\n",
       "Name: store_format, dtype: int64"
      ]
     },
     "execution_count": 923,
     "metadata": {},
     "output_type": "execute_result"
    }
   ],
   "source": [
    "# смотрим уникальное количество форматов ТО \n",
    "data['store_format'].value_counts()"
   ]
  },
  {
   "cell_type": "markdown",
   "id": "666368a6",
   "metadata": {},
   "source": [
    "Видим, что >80% всех заказов относятся к 5-ти форматам ТО. Их будем использовать для обучения, остальные можно удалить."
   ]
  },
  {
   "cell_type": "code",
   "execution_count": 924,
   "id": "0e3dbc74",
   "metadata": {},
   "outputs": [
    {
     "data": {
      "text/html": [
       "<div>\n",
       "<style scoped>\n",
       "    .dataframe tbody tr th:only-of-type {\n",
       "        vertical-align: middle;\n",
       "    }\n",
       "\n",
       "    .dataframe tbody tr th {\n",
       "        vertical-align: top;\n",
       "    }\n",
       "\n",
       "    .dataframe thead th {\n",
       "        text-align: right;\n",
       "    }\n",
       "</style>\n",
       "<table border=\"1\" class=\"dataframe\">\n",
       "  <thead>\n",
       "    <tr style=\"text-align: right;\">\n",
       "      <th></th>\n",
       "      <th>store_format</th>\n",
       "      <th>goods_amount</th>\n",
       "      <th>goods_SKU</th>\n",
       "      <th>assembling_time</th>\n",
       "    </tr>\n",
       "  </thead>\n",
       "  <tbody>\n",
       "    <tr>\n",
       "      <th>0</th>\n",
       "      <td>МД/Мини-Даркстор</td>\n",
       "      <td>16</td>\n",
       "      <td>11</td>\n",
       "      <td>5.163999</td>\n",
       "    </tr>\n",
       "    <tr>\n",
       "      <th>1</th>\n",
       "      <td>МД/Мини-Даркстор</td>\n",
       "      <td>21</td>\n",
       "      <td>6</td>\n",
       "      <td>7.065716</td>\n",
       "    </tr>\n",
       "    <tr>\n",
       "      <th>2</th>\n",
       "      <td>МД/Мини-Даркстор</td>\n",
       "      <td>40</td>\n",
       "      <td>21</td>\n",
       "      <td>26.572096</td>\n",
       "    </tr>\n",
       "    <tr>\n",
       "      <th>3</th>\n",
       "      <td>МД/Мини-Даркстор</td>\n",
       "      <td>16</td>\n",
       "      <td>15</td>\n",
       "      <td>8.984583</td>\n",
       "    </tr>\n",
       "    <tr>\n",
       "      <th>4</th>\n",
       "      <td>МД/Мини-Даркстор</td>\n",
       "      <td>31</td>\n",
       "      <td>23</td>\n",
       "      <td>27.368257</td>\n",
       "    </tr>\n",
       "    <tr>\n",
       "      <th>...</th>\n",
       "      <td>...</td>\n",
       "      <td>...</td>\n",
       "      <td>...</td>\n",
       "      <td>...</td>\n",
       "    </tr>\n",
       "    <tr>\n",
       "      <th>17164</th>\n",
       "      <td>МД/Супермаркет</td>\n",
       "      <td>14</td>\n",
       "      <td>10</td>\n",
       "      <td>19.730990</td>\n",
       "    </tr>\n",
       "    <tr>\n",
       "      <th>17165</th>\n",
       "      <td>МД/Супермаркет</td>\n",
       "      <td>14</td>\n",
       "      <td>11</td>\n",
       "      <td>6.744113</td>\n",
       "    </tr>\n",
       "    <tr>\n",
       "      <th>17166</th>\n",
       "      <td>МД/Супермаркет</td>\n",
       "      <td>24</td>\n",
       "      <td>19</td>\n",
       "      <td>27.290645</td>\n",
       "    </tr>\n",
       "    <tr>\n",
       "      <th>17168</th>\n",
       "      <td>МД/Магазин у дома</td>\n",
       "      <td>26</td>\n",
       "      <td>26</td>\n",
       "      <td>25.760957</td>\n",
       "    </tr>\n",
       "    <tr>\n",
       "      <th>17169</th>\n",
       "      <td>МД/Супермаркет</td>\n",
       "      <td>61</td>\n",
       "      <td>25</td>\n",
       "      <td>49.080679</td>\n",
       "    </tr>\n",
       "  </tbody>\n",
       "</table>\n",
       "<p>15826 rows × 4 columns</p>\n",
       "</div>"
      ],
      "text/plain": [
       "            store_format  goods_amount  goods_SKU  assembling_time\n",
       "0       МД/Мини-Даркстор            16         11         5.163999\n",
       "1       МД/Мини-Даркстор            21          6         7.065716\n",
       "2       МД/Мини-Даркстор            40         21        26.572096\n",
       "3       МД/Мини-Даркстор            16         15         8.984583\n",
       "4       МД/Мини-Даркстор            31         23        27.368257\n",
       "...                  ...           ...        ...              ...\n",
       "17164     МД/Супермаркет            14         10        19.730990\n",
       "17165     МД/Супермаркет            14         11         6.744113\n",
       "17166     МД/Супермаркет            24         19        27.290645\n",
       "17168  МД/Магазин у дома            26         26        25.760957\n",
       "17169     МД/Супермаркет            61         25        49.080679\n",
       "\n",
       "[15826 rows x 4 columns]"
      ]
     },
     "execution_count": 924,
     "metadata": {},
     "output_type": "execute_result"
    }
   ],
   "source": [
    "# удалим форматы ТО, которые не будут использоваться в обучении модели\n",
    "target_formats = ['МД/Супермаркет', 'МД/Магазин у дома', 'МД/Мини-Даркстор', 'МК/Город МК', 'МК/Мегаполис МК']\n",
    "check_target = lambda x: x in target_formats\n",
    "data = data[data['store_format'].apply(check_target)]\n",
    "data"
   ]
  },
  {
   "cell_type": "code",
   "execution_count": 925,
   "id": "209db540",
   "metadata": {
    "scrolled": false
   },
   "outputs": [
    {
     "data": {
      "text/html": [
       "<div>\n",
       "<style scoped>\n",
       "    .dataframe tbody tr th:only-of-type {\n",
       "        vertical-align: middle;\n",
       "    }\n",
       "\n",
       "    .dataframe tbody tr th {\n",
       "        vertical-align: top;\n",
       "    }\n",
       "\n",
       "    .dataframe thead th {\n",
       "        text-align: right;\n",
       "    }\n",
       "</style>\n",
       "<table border=\"1\" class=\"dataframe\">\n",
       "  <thead>\n",
       "    <tr style=\"text-align: right;\">\n",
       "      <th></th>\n",
       "      <th>goods_amount</th>\n",
       "      <th>goods_SKU</th>\n",
       "      <th>assembling_time</th>\n",
       "      <th>store_format_МД/Магазин у дома</th>\n",
       "      <th>store_format_МД/Мини-Даркстор</th>\n",
       "      <th>store_format_МД/Супермаркет</th>\n",
       "      <th>store_format_МК/Город МК</th>\n",
       "      <th>store_format_МК/Мегаполис МК</th>\n",
       "    </tr>\n",
       "  </thead>\n",
       "  <tbody>\n",
       "    <tr>\n",
       "      <th>0</th>\n",
       "      <td>16</td>\n",
       "      <td>11</td>\n",
       "      <td>5.163999</td>\n",
       "      <td>0</td>\n",
       "      <td>1</td>\n",
       "      <td>0</td>\n",
       "      <td>0</td>\n",
       "      <td>0</td>\n",
       "    </tr>\n",
       "    <tr>\n",
       "      <th>1</th>\n",
       "      <td>21</td>\n",
       "      <td>6</td>\n",
       "      <td>7.065716</td>\n",
       "      <td>0</td>\n",
       "      <td>1</td>\n",
       "      <td>0</td>\n",
       "      <td>0</td>\n",
       "      <td>0</td>\n",
       "    </tr>\n",
       "    <tr>\n",
       "      <th>2</th>\n",
       "      <td>40</td>\n",
       "      <td>21</td>\n",
       "      <td>26.572096</td>\n",
       "      <td>0</td>\n",
       "      <td>1</td>\n",
       "      <td>0</td>\n",
       "      <td>0</td>\n",
       "      <td>0</td>\n",
       "    </tr>\n",
       "    <tr>\n",
       "      <th>3</th>\n",
       "      <td>16</td>\n",
       "      <td>15</td>\n",
       "      <td>8.984583</td>\n",
       "      <td>0</td>\n",
       "      <td>1</td>\n",
       "      <td>0</td>\n",
       "      <td>0</td>\n",
       "      <td>0</td>\n",
       "    </tr>\n",
       "    <tr>\n",
       "      <th>4</th>\n",
       "      <td>31</td>\n",
       "      <td>23</td>\n",
       "      <td>27.368257</td>\n",
       "      <td>0</td>\n",
       "      <td>1</td>\n",
       "      <td>0</td>\n",
       "      <td>0</td>\n",
       "      <td>0</td>\n",
       "    </tr>\n",
       "    <tr>\n",
       "      <th>...</th>\n",
       "      <td>...</td>\n",
       "      <td>...</td>\n",
       "      <td>...</td>\n",
       "      <td>...</td>\n",
       "      <td>...</td>\n",
       "      <td>...</td>\n",
       "      <td>...</td>\n",
       "      <td>...</td>\n",
       "    </tr>\n",
       "    <tr>\n",
       "      <th>17164</th>\n",
       "      <td>14</td>\n",
       "      <td>10</td>\n",
       "      <td>19.730990</td>\n",
       "      <td>0</td>\n",
       "      <td>0</td>\n",
       "      <td>1</td>\n",
       "      <td>0</td>\n",
       "      <td>0</td>\n",
       "    </tr>\n",
       "    <tr>\n",
       "      <th>17165</th>\n",
       "      <td>14</td>\n",
       "      <td>11</td>\n",
       "      <td>6.744113</td>\n",
       "      <td>0</td>\n",
       "      <td>0</td>\n",
       "      <td>1</td>\n",
       "      <td>0</td>\n",
       "      <td>0</td>\n",
       "    </tr>\n",
       "    <tr>\n",
       "      <th>17166</th>\n",
       "      <td>24</td>\n",
       "      <td>19</td>\n",
       "      <td>27.290645</td>\n",
       "      <td>0</td>\n",
       "      <td>0</td>\n",
       "      <td>1</td>\n",
       "      <td>0</td>\n",
       "      <td>0</td>\n",
       "    </tr>\n",
       "    <tr>\n",
       "      <th>17168</th>\n",
       "      <td>26</td>\n",
       "      <td>26</td>\n",
       "      <td>25.760957</td>\n",
       "      <td>1</td>\n",
       "      <td>0</td>\n",
       "      <td>0</td>\n",
       "      <td>0</td>\n",
       "      <td>0</td>\n",
       "    </tr>\n",
       "    <tr>\n",
       "      <th>17169</th>\n",
       "      <td>61</td>\n",
       "      <td>25</td>\n",
       "      <td>49.080679</td>\n",
       "      <td>0</td>\n",
       "      <td>0</td>\n",
       "      <td>1</td>\n",
       "      <td>0</td>\n",
       "      <td>0</td>\n",
       "    </tr>\n",
       "  </tbody>\n",
       "</table>\n",
       "<p>15826 rows × 8 columns</p>\n",
       "</div>"
      ],
      "text/plain": [
       "       goods_amount  goods_SKU  assembling_time  \\\n",
       "0                16         11         5.163999   \n",
       "1                21          6         7.065716   \n",
       "2                40         21        26.572096   \n",
       "3                16         15         8.984583   \n",
       "4                31         23        27.368257   \n",
       "...             ...        ...              ...   \n",
       "17164            14         10        19.730990   \n",
       "17165            14         11         6.744113   \n",
       "17166            24         19        27.290645   \n",
       "17168            26         26        25.760957   \n",
       "17169            61         25        49.080679   \n",
       "\n",
       "       store_format_МД/Магазин у дома  store_format_МД/Мини-Даркстор  \\\n",
       "0                                   0                              1   \n",
       "1                                   0                              1   \n",
       "2                                   0                              1   \n",
       "3                                   0                              1   \n",
       "4                                   0                              1   \n",
       "...                               ...                            ...   \n",
       "17164                               0                              0   \n",
       "17165                               0                              0   \n",
       "17166                               0                              0   \n",
       "17168                               1                              0   \n",
       "17169                               0                              0   \n",
       "\n",
       "       store_format_МД/Супермаркет  store_format_МК/Город МК  \\\n",
       "0                                0                         0   \n",
       "1                                0                         0   \n",
       "2                                0                         0   \n",
       "3                                0                         0   \n",
       "4                                0                         0   \n",
       "...                            ...                       ...   \n",
       "17164                            1                         0   \n",
       "17165                            1                         0   \n",
       "17166                            1                         0   \n",
       "17168                            0                         0   \n",
       "17169                            1                         0   \n",
       "\n",
       "       store_format_МК/Мегаполис МК  \n",
       "0                                 0  \n",
       "1                                 0  \n",
       "2                                 0  \n",
       "3                                 0  \n",
       "4                                 0  \n",
       "...                             ...  \n",
       "17164                             0  \n",
       "17165                             0  \n",
       "17166                             0  \n",
       "17168                             0  \n",
       "17169                             0  \n",
       "\n",
       "[15826 rows x 8 columns]"
      ]
     },
     "execution_count": 925,
     "metadata": {},
     "output_type": "execute_result"
    }
   ],
   "source": [
    "# выполним one-hot кодирование категориального признака\n",
    "data = pd.get_dummies(data, columns=['store_format'])\n",
    "data"
   ]
  },
  {
   "cell_type": "markdown",
   "id": "af752c8e",
   "metadata": {},
   "source": [
    "Теперь построим корреляционную матрицу признаков."
   ]
  },
  {
   "cell_type": "code",
   "execution_count": 926,
   "id": "936f9f52",
   "metadata": {
    "scrolled": false
   },
   "outputs": [
    {
     "data": {
      "image/png": "[encoded data removed]",
      "text/plain": [
       "<Figure size 720x432 with 2 Axes>"
      ]
     },
     "metadata": {},
     "output_type": "display_data"
    }
   ],
   "source": [
    "plt.figure(figsize = (10,6))\n",
    "sns.set(font_scale=1.3)\n",
    "\n",
    "corr_matrix = data.loc[:, 'goods_amount':'assembling_time'].corr(method='spearman')\n",
    "# corr_matrix = data.corr(method='pearson')\n",
    "# corr_matrix = data.corr(method='kendall')\n",
    "corr_matrix = np.round(corr_matrix, 2)\n",
    "\n",
    "sns.heatmap(corr_matrix, annot=True, linewidths=.75, cmap='GnBu')\n",
    "\n",
    "plt.title('Матрица коррелляции признаков')\n",
    "plt.show()"
   ]
  },
  {
   "cell_type": "markdown",
   "id": "5cff8de4",
   "metadata": {},
   "source": [
    "Видим высокую линейную зависимости между таргетом и остальными признаками."
   ]
  },
  {
   "cell_type": "markdown",
   "id": "60728741",
   "metadata": {},
   "source": [
    "## Регрессия"
   ]
  },
  {
   "cell_type": "code",
   "execution_count": 927,
   "id": "98fb1ab9",
   "metadata": {},
   "outputs": [],
   "source": [
    "from sklearn import *\n",
    "from sklearn.model_selection import train_test_split\n",
    "from sklearn.linear_model import LinearRegression\n",
    "from sklearn.metrics import mean_absolute_error\n",
    "# from sklearn.ensemble import model_frst\n",
    "from sklearn.ensemble import RandomForestRegressor"
   ]
  },
  {
   "cell_type": "code",
   "execution_count": 928,
   "id": "c30a0d52",
   "metadata": {},
   "outputs": [],
   "source": [
    "# Разделим датасет на тестовую и тренировочную выборки\n",
    "X = data.drop('assembling_time', axis=1)\n",
    "y = data['assembling_time']\n",
    "X_train, X_test, y_train, y_test = train_test_split(X, y, test_size=0.3, random_state=42)"
   ]
  },
  {
   "cell_type": "code",
   "execution_count": 929,
   "id": "37b647f5",
   "metadata": {
    "scrolled": true
   },
   "outputs": [
    {
     "data": {
      "text/html": [
       "<div>\n",
       "<style scoped>\n",
       "    .dataframe tbody tr th:only-of-type {\n",
       "        vertical-align: middle;\n",
       "    }\n",
       "\n",
       "    .dataframe tbody tr th {\n",
       "        vertical-align: top;\n",
       "    }\n",
       "\n",
       "    .dataframe thead th {\n",
       "        text-align: right;\n",
       "    }\n",
       "</style>\n",
       "<table border=\"1\" class=\"dataframe\">\n",
       "  <thead>\n",
       "    <tr style=\"text-align: right;\">\n",
       "      <th></th>\n",
       "      <th>goods_amount</th>\n",
       "      <th>goods_SKU</th>\n",
       "      <th>store_format_МД/Магазин у дома</th>\n",
       "      <th>store_format_МД/Мини-Даркстор</th>\n",
       "      <th>store_format_МД/Супермаркет</th>\n",
       "      <th>store_format_МК/Город МК</th>\n",
       "      <th>store_format_МК/Мегаполис МК</th>\n",
       "    </tr>\n",
       "  </thead>\n",
       "  <tbody>\n",
       "    <tr>\n",
       "      <th>2754</th>\n",
       "      <td>6</td>\n",
       "      <td>6</td>\n",
       "      <td>0</td>\n",
       "      <td>0</td>\n",
       "      <td>0</td>\n",
       "      <td>1</td>\n",
       "      <td>0</td>\n",
       "    </tr>\n",
       "    <tr>\n",
       "      <th>4010</th>\n",
       "      <td>24</td>\n",
       "      <td>15</td>\n",
       "      <td>0</td>\n",
       "      <td>0</td>\n",
       "      <td>1</td>\n",
       "      <td>0</td>\n",
       "      <td>0</td>\n",
       "    </tr>\n",
       "    <tr>\n",
       "      <th>6186</th>\n",
       "      <td>18</td>\n",
       "      <td>13</td>\n",
       "      <td>0</td>\n",
       "      <td>0</td>\n",
       "      <td>1</td>\n",
       "      <td>0</td>\n",
       "      <td>0</td>\n",
       "    </tr>\n",
       "    <tr>\n",
       "      <th>2334</th>\n",
       "      <td>13</td>\n",
       "      <td>11</td>\n",
       "      <td>0</td>\n",
       "      <td>0</td>\n",
       "      <td>1</td>\n",
       "      <td>0</td>\n",
       "      <td>0</td>\n",
       "    </tr>\n",
       "    <tr>\n",
       "      <th>14941</th>\n",
       "      <td>59</td>\n",
       "      <td>29</td>\n",
       "      <td>0</td>\n",
       "      <td>0</td>\n",
       "      <td>1</td>\n",
       "      <td>0</td>\n",
       "      <td>0</td>\n",
       "    </tr>\n",
       "    <tr>\n",
       "      <th>...</th>\n",
       "      <td>...</td>\n",
       "      <td>...</td>\n",
       "      <td>...</td>\n",
       "      <td>...</td>\n",
       "      <td>...</td>\n",
       "      <td>...</td>\n",
       "      <td>...</td>\n",
       "    </tr>\n",
       "    <tr>\n",
       "      <th>14388</th>\n",
       "      <td>58</td>\n",
       "      <td>37</td>\n",
       "      <td>0</td>\n",
       "      <td>0</td>\n",
       "      <td>1</td>\n",
       "      <td>0</td>\n",
       "      <td>0</td>\n",
       "    </tr>\n",
       "    <tr>\n",
       "      <th>5733</th>\n",
       "      <td>9</td>\n",
       "      <td>9</td>\n",
       "      <td>1</td>\n",
       "      <td>0</td>\n",
       "      <td>0</td>\n",
       "      <td>0</td>\n",
       "      <td>0</td>\n",
       "    </tr>\n",
       "    <tr>\n",
       "      <th>881</th>\n",
       "      <td>11</td>\n",
       "      <td>8</td>\n",
       "      <td>0</td>\n",
       "      <td>0</td>\n",
       "      <td>1</td>\n",
       "      <td>0</td>\n",
       "      <td>0</td>\n",
       "    </tr>\n",
       "    <tr>\n",
       "      <th>17138</th>\n",
       "      <td>30</td>\n",
       "      <td>25</td>\n",
       "      <td>1</td>\n",
       "      <td>0</td>\n",
       "      <td>0</td>\n",
       "      <td>0</td>\n",
       "      <td>0</td>\n",
       "    </tr>\n",
       "    <tr>\n",
       "      <th>7710</th>\n",
       "      <td>10</td>\n",
       "      <td>4</td>\n",
       "      <td>0</td>\n",
       "      <td>0</td>\n",
       "      <td>1</td>\n",
       "      <td>0</td>\n",
       "      <td>0</td>\n",
       "    </tr>\n",
       "  </tbody>\n",
       "</table>\n",
       "<p>11078 rows × 7 columns</p>\n",
       "</div>"
      ],
      "text/plain": [
       "       goods_amount  goods_SKU  store_format_МД/Магазин у дома  \\\n",
       "2754              6          6                               0   \n",
       "4010             24         15                               0   \n",
       "6186             18         13                               0   \n",
       "2334             13         11                               0   \n",
       "14941            59         29                               0   \n",
       "...             ...        ...                             ...   \n",
       "14388            58         37                               0   \n",
       "5733              9          9                               1   \n",
       "881              11          8                               0   \n",
       "17138            30         25                               1   \n",
       "7710             10          4                               0   \n",
       "\n",
       "       store_format_МД/Мини-Даркстор  store_format_МД/Супермаркет  \\\n",
       "2754                               0                            0   \n",
       "4010                               0                            1   \n",
       "6186                               0                            1   \n",
       "2334                               0                            1   \n",
       "14941                              0                            1   \n",
       "...                              ...                          ...   \n",
       "14388                              0                            1   \n",
       "5733                               0                            0   \n",
       "881                                0                            1   \n",
       "17138                              0                            0   \n",
       "7710                               0                            1   \n",
       "\n",
       "       store_format_МК/Город МК  store_format_МК/Мегаполис МК  \n",
       "2754                          1                             0  \n",
       "4010                          0                             0  \n",
       "6186                          0                             0  \n",
       "2334                          0                             0  \n",
       "14941                         0                             0  \n",
       "...                         ...                           ...  \n",
       "14388                         0                             0  \n",
       "5733                          0                             0  \n",
       "881                           0                             0  \n",
       "17138                         0                             0  \n",
       "7710                          0                             0  \n",
       "\n",
       "[11078 rows x 7 columns]"
      ]
     },
     "execution_count": 929,
     "metadata": {},
     "output_type": "execute_result"
    }
   ],
   "source": [
    "X_train"
   ]
  },
  {
   "cell_type": "code",
   "execution_count": 930,
   "id": "2f589ed7",
   "metadata": {
    "scrolled": true
   },
   "outputs": [
    {
     "data": {
      "text/plain": [
       "2754      6.057183\n",
       "4010     10.763817\n",
       "6186     19.551555\n",
       "2334     15.210460\n",
       "14941    36.326191\n",
       "           ...    \n",
       "14388    36.204417\n",
       "5733      7.602266\n",
       "881       9.056394\n",
       "17138    23.667253\n",
       "7710      2.640878\n",
       "Name: assembling_time, Length: 11078, dtype: float64"
      ]
     },
     "execution_count": 930,
     "metadata": {},
     "output_type": "execute_result"
    }
   ],
   "source": [
    "y_train"
   ]
  },
  {
   "cell_type": "code",
   "execution_count": 931,
   "id": "4a86dbae",
   "metadata": {},
   "outputs": [
    {
     "data": {
      "text/html": [
       "<div>\n",
       "<style scoped>\n",
       "    .dataframe tbody tr th:only-of-type {\n",
       "        vertical-align: middle;\n",
       "    }\n",
       "\n",
       "    .dataframe tbody tr th {\n",
       "        vertical-align: top;\n",
       "    }\n",
       "\n",
       "    .dataframe thead th {\n",
       "        text-align: right;\n",
       "    }\n",
       "</style>\n",
       "<table border=\"1\" class=\"dataframe\">\n",
       "  <thead>\n",
       "    <tr style=\"text-align: right;\">\n",
       "      <th></th>\n",
       "      <th>goods_amount</th>\n",
       "      <th>goods_SKU</th>\n",
       "      <th>store_format_МД/Магазин у дома</th>\n",
       "      <th>store_format_МД/Мини-Даркстор</th>\n",
       "      <th>store_format_МД/Супермаркет</th>\n",
       "      <th>store_format_МК/Город МК</th>\n",
       "      <th>store_format_МК/Мегаполис МК</th>\n",
       "    </tr>\n",
       "  </thead>\n",
       "  <tbody>\n",
       "    <tr>\n",
       "      <th>8777</th>\n",
       "      <td>38</td>\n",
       "      <td>25</td>\n",
       "      <td>0</td>\n",
       "      <td>0</td>\n",
       "      <td>1</td>\n",
       "      <td>0</td>\n",
       "      <td>0</td>\n",
       "    </tr>\n",
       "    <tr>\n",
       "      <th>171</th>\n",
       "      <td>40</td>\n",
       "      <td>24</td>\n",
       "      <td>0</td>\n",
       "      <td>1</td>\n",
       "      <td>0</td>\n",
       "      <td>0</td>\n",
       "      <td>0</td>\n",
       "    </tr>\n",
       "    <tr>\n",
       "      <th>16001</th>\n",
       "      <td>20</td>\n",
       "      <td>11</td>\n",
       "      <td>0</td>\n",
       "      <td>0</td>\n",
       "      <td>1</td>\n",
       "      <td>0</td>\n",
       "      <td>0</td>\n",
       "    </tr>\n",
       "    <tr>\n",
       "      <th>9390</th>\n",
       "      <td>8</td>\n",
       "      <td>7</td>\n",
       "      <td>0</td>\n",
       "      <td>1</td>\n",
       "      <td>0</td>\n",
       "      <td>0</td>\n",
       "      <td>0</td>\n",
       "    </tr>\n",
       "    <tr>\n",
       "      <th>4361</th>\n",
       "      <td>18</td>\n",
       "      <td>15</td>\n",
       "      <td>1</td>\n",
       "      <td>0</td>\n",
       "      <td>0</td>\n",
       "      <td>0</td>\n",
       "      <td>0</td>\n",
       "    </tr>\n",
       "    <tr>\n",
       "      <th>...</th>\n",
       "      <td>...</td>\n",
       "      <td>...</td>\n",
       "      <td>...</td>\n",
       "      <td>...</td>\n",
       "      <td>...</td>\n",
       "      <td>...</td>\n",
       "      <td>...</td>\n",
       "    </tr>\n",
       "    <tr>\n",
       "      <th>96</th>\n",
       "      <td>13</td>\n",
       "      <td>12</td>\n",
       "      <td>0</td>\n",
       "      <td>1</td>\n",
       "      <td>0</td>\n",
       "      <td>0</td>\n",
       "      <td>0</td>\n",
       "    </tr>\n",
       "    <tr>\n",
       "      <th>15372</th>\n",
       "      <td>48</td>\n",
       "      <td>1</td>\n",
       "      <td>0</td>\n",
       "      <td>0</td>\n",
       "      <td>1</td>\n",
       "      <td>0</td>\n",
       "      <td>0</td>\n",
       "    </tr>\n",
       "    <tr>\n",
       "      <th>3301</th>\n",
       "      <td>5</td>\n",
       "      <td>4</td>\n",
       "      <td>1</td>\n",
       "      <td>0</td>\n",
       "      <td>0</td>\n",
       "      <td>0</td>\n",
       "      <td>0</td>\n",
       "    </tr>\n",
       "    <tr>\n",
       "      <th>2592</th>\n",
       "      <td>7</td>\n",
       "      <td>6</td>\n",
       "      <td>1</td>\n",
       "      <td>0</td>\n",
       "      <td>0</td>\n",
       "      <td>0</td>\n",
       "      <td>0</td>\n",
       "    </tr>\n",
       "    <tr>\n",
       "      <th>4181</th>\n",
       "      <td>36</td>\n",
       "      <td>21</td>\n",
       "      <td>0</td>\n",
       "      <td>0</td>\n",
       "      <td>1</td>\n",
       "      <td>0</td>\n",
       "      <td>0</td>\n",
       "    </tr>\n",
       "  </tbody>\n",
       "</table>\n",
       "<p>4748 rows × 7 columns</p>\n",
       "</div>"
      ],
      "text/plain": [
       "       goods_amount  goods_SKU  store_format_МД/Магазин у дома  \\\n",
       "8777             38         25                               0   \n",
       "171              40         24                               0   \n",
       "16001            20         11                               0   \n",
       "9390              8          7                               0   \n",
       "4361             18         15                               1   \n",
       "...             ...        ...                             ...   \n",
       "96               13         12                               0   \n",
       "15372            48          1                               0   \n",
       "3301              5          4                               1   \n",
       "2592              7          6                               1   \n",
       "4181             36         21                               0   \n",
       "\n",
       "       store_format_МД/Мини-Даркстор  store_format_МД/Супермаркет  \\\n",
       "8777                               0                            1   \n",
       "171                                1                            0   \n",
       "16001                              0                            1   \n",
       "9390                               1                            0   \n",
       "4361                               0                            0   \n",
       "...                              ...                          ...   \n",
       "96                                 1                            0   \n",
       "15372                              0                            1   \n",
       "3301                               0                            0   \n",
       "2592                               0                            0   \n",
       "4181                               0                            1   \n",
       "\n",
       "       store_format_МК/Город МК  store_format_МК/Мегаполис МК  \n",
       "8777                          0                             0  \n",
       "171                           0                             0  \n",
       "16001                         0                             0  \n",
       "9390                          0                             0  \n",
       "4361                          0                             0  \n",
       "...                         ...                           ...  \n",
       "96                            0                             0  \n",
       "15372                         0                             0  \n",
       "3301                          0                             0  \n",
       "2592                          0                             0  \n",
       "4181                          0                             0  \n",
       "\n",
       "[4748 rows x 7 columns]"
      ]
     },
     "execution_count": 931,
     "metadata": {},
     "output_type": "execute_result"
    }
   ],
   "source": [
    "X_test"
   ]
  },
  {
   "cell_type": "code",
   "execution_count": 932,
   "id": "5a51d0ea",
   "metadata": {},
   "outputs": [
    {
     "data": {
      "text/plain": [
       "8777     42.455017\n",
       "171      20.982707\n",
       "16001    20.273035\n",
       "9390      8.159521\n",
       "4361      9.097840\n",
       "           ...    \n",
       "96       12.141622\n",
       "15372    12.592066\n",
       "3301     10.205643\n",
       "2592      8.497463\n",
       "4181     25.108926\n",
       "Name: assembling_time, Length: 4748, dtype: float64"
      ]
     },
     "execution_count": 932,
     "metadata": {},
     "output_type": "execute_result"
    }
   ],
   "source": [
    "y_test"
   ]
  },
  {
   "cell_type": "markdown",
   "id": "4dd5ea05",
   "metadata": {},
   "source": [
    "### Linear"
   ]
  },
  {
   "cell_type": "code",
   "execution_count": 933,
   "id": "277caa2a",
   "metadata": {},
   "outputs": [
    {
     "data": {
      "text/plain": [
       "LinearRegression()"
      ]
     },
     "execution_count": 933,
     "metadata": {},
     "output_type": "execute_result"
    }
   ],
   "source": [
    "# обучаем модель\n",
    "model_LR = LinearRegression()\n",
    "model_LR.fit(X_train, y_train)"
   ]
  },
  {
   "cell_type": "code",
   "execution_count": 934,
   "id": "333b86b4",
   "metadata": {},
   "outputs": [
    {
     "data": {
      "text/plain": [
       "array([24.28191703, 23.28836925, 13.17708836, ...,  6.35677957,\n",
       "        7.8766193 , 21.47521283])"
      ]
     },
     "execution_count": 934,
     "metadata": {},
     "output_type": "execute_result"
    }
   ],
   "source": [
    "# предсказываем таргет\n",
    "y_pred_LR = model_LR.predict(X_test)\n",
    "y_pred_LR"
   ]
  },
  {
   "cell_type": "code",
   "execution_count": 935,
   "id": "5f7dfbaf",
   "metadata": {
    "scrolled": true
   },
   "outputs": [
    {
     "name": "stdout",
     "output_type": "stream",
     "text": [
      "Train:  0.5438225101261984 Test:  0.5245158325866461\n"
     ]
    }
   ],
   "source": [
    "print('Train: ', model_LR.score(X_train, y_train), 'Test: ', model_LR.score(X_test, y_test)) "
   ]
  },
  {
   "cell_type": "code",
   "execution_count": 936,
   "id": "8a15e36c",
   "metadata": {
    "scrolled": false
   },
   "outputs": [
    {
     "data": {
      "text/plain": [
       "5.239026209449765"
      ]
     },
     "execution_count": 936,
     "metadata": {},
     "output_type": "execute_result"
    }
   ],
   "source": [
    "# оцениваем качество обученной модели\n",
    "mean_absolute_error(y_pred_LR, y_test)"
   ]
  },
  {
   "cell_type": "markdown",
   "id": "d3ebc526",
   "metadata": {},
   "source": [
    "### Random Forest"
   ]
  },
  {
   "cell_type": "code",
   "execution_count": 937,
   "id": "ee144432",
   "metadata": {},
   "outputs": [
    {
     "data": {
      "text/plain": [
       "RandomForestRegressor(random_state=42)"
      ]
     },
     "execution_count": 937,
     "metadata": {},
     "output_type": "execute_result"
    }
   ],
   "source": [
    "# обучаем модель\n",
    "model_Forest = RandomForestRegressor(n_estimators=100, random_state=42)\n",
    "model_Forest.fit(X_train, y_train)"
   ]
  },
  {
   "cell_type": "code",
   "execution_count": 938,
   "id": "793f2e17",
   "metadata": {},
   "outputs": [
    {
     "data": {
      "text/plain": [
       "array([26.10391448, 17.1596884 , 11.82038308, ...,  6.26282441,\n",
       "        7.8428445 , 30.47375789])"
      ]
     },
     "execution_count": 938,
     "metadata": {},
     "output_type": "execute_result"
    }
   ],
   "source": [
    "# предсказываем таргет\n",
    "y_pred_Forest = model_Forest.predict(X_test)\n",
    "y_pred_Forest"
   ]
  },
  {
   "cell_type": "code",
   "execution_count": 939,
   "id": "41fe3bcb",
   "metadata": {},
   "outputs": [
    {
     "name": "stdout",
     "output_type": "stream",
     "text": [
      "Train:  0.7073528118132064 Test:  0.4273455384931165\n"
     ]
    }
   ],
   "source": [
    "print('Train: ', model_Forest.score(X_train, y_train), 'Test: ', model_Forest.score(X_test, y_test))"
   ]
  },
  {
   "cell_type": "code",
   "execution_count": 940,
   "id": "2c339a3d",
   "metadata": {
    "scrolled": true
   },
   "outputs": [
    {
     "data": {
      "text/plain": [
       "5.6687666603367735"
      ]
     },
     "execution_count": 940,
     "metadata": {},
     "output_type": "execute_result"
    }
   ],
   "source": [
    "# оцениваем качество обученной модели\n",
    "mean_absolute_error(y_pred_Forest, y_test)"
   ]
  },
  {
   "cell_type": "markdown",
   "id": "02f0b5c1",
   "metadata": {},
   "source": [
    "### Ridge"
   ]
  },
  {
   "cell_type": "code",
   "execution_count": 941,
   "id": "2d8968bb",
   "metadata": {
    "scrolled": true
   },
   "outputs": [
    {
     "data": {
      "text/plain": [
       "Ridge()"
      ]
     },
     "execution_count": 941,
     "metadata": {},
     "output_type": "execute_result"
    }
   ],
   "source": [
    "# обучаем модель\n",
    "model_Ridge = linear_model.Ridge()\n",
    "model_Ridge.fit(X_train, y_train)"
   ]
  },
  {
   "cell_type": "code",
   "execution_count": 942,
   "id": "ba991ee9",
   "metadata": {},
   "outputs": [
    {
     "data": {
      "text/plain": [
       "array([24.28187738, 23.2880247 , 13.17663533, ...,  6.35611297,\n",
       "        7.87600898, 21.47507032])"
      ]
     },
     "execution_count": 942,
     "metadata": {},
     "output_type": "execute_result"
    }
   ],
   "source": [
    "# предсказываем таргет\n",
    "y_pred_Ridge = model_Ridge.predict(X_test)\n",
    "y_pred_Ridge"
   ]
  },
  {
   "cell_type": "code",
   "execution_count": 943,
   "id": "552c0d50",
   "metadata": {},
   "outputs": [
    {
     "name": "stdout",
     "output_type": "stream",
     "text": [
      "Train:  0.5438224880313958 Test:  0.524514299148539\n"
     ]
    }
   ],
   "source": [
    "print('Train: ', model_Ridge.score(X_train, y_train), 'Test: ', model_Ridge.score(X_test, y_test))"
   ]
  },
  {
   "cell_type": "code",
   "execution_count": 944,
   "id": "fb074e7f",
   "metadata": {},
   "outputs": [
    {
     "data": {
      "text/plain": [
       "5.238995483261875"
      ]
     },
     "execution_count": 944,
     "metadata": {},
     "output_type": "execute_result"
    }
   ],
   "source": [
    "# оцениваем качество обученной модели\n",
    "mean_absolute_error(y_pred_Ridge, y_test)"
   ]
  },
  {
   "cell_type": "markdown",
   "id": "8b58dcd6",
   "metadata": {},
   "source": [
    "### Lasso"
   ]
  },
  {
   "cell_type": "code",
   "execution_count": 945,
   "id": "9aacc910",
   "metadata": {},
   "outputs": [
    {
     "data": {
      "text/plain": [
       "Lasso()"
      ]
     },
     "execution_count": 945,
     "metadata": {},
     "output_type": "execute_result"
    }
   ],
   "source": [
    "# обучаем модель\n",
    "model_Lasso = linear_model.Lasso()\n",
    "model_Lasso.fit(X_train, y_train)"
   ]
  },
  {
   "cell_type": "code",
   "execution_count": 946,
   "id": "079a3b6c",
   "metadata": {},
   "outputs": [
    {
     "data": {
      "text/plain": [
       "array([23.81671022, 23.41900987, 12.68821233, ...,  6.39865561,\n",
       "        7.9193641 , 21.01706251])"
      ]
     },
     "execution_count": 946,
     "metadata": {},
     "output_type": "execute_result"
    }
   ],
   "source": [
    "# предсказываем таргет\n",
    "y_pred_Lasso = model_Lasso.predict(X_test)\n",
    "y_pred_Lasso"
   ]
  },
  {
   "cell_type": "code",
   "execution_count": 947,
   "id": "6a76e720",
   "metadata": {},
   "outputs": [
    {
     "name": "stdout",
     "output_type": "stream",
     "text": [
      "Train:  0.5380293745082597 Test:  0.5184677623017997\n"
     ]
    }
   ],
   "source": [
    "print('Train: ', model_Lasso.score(X_train, y_train), 'Test: ', model_Lasso.score(X_test, y_test))"
   ]
  },
  {
   "cell_type": "code",
   "execution_count": 948,
   "id": "4d34731a",
   "metadata": {
    "scrolled": true
   },
   "outputs": [
    {
     "data": {
      "text/plain": [
       "5.291603771915692"
      ]
     },
     "execution_count": 948,
     "metadata": {},
     "output_type": "execute_result"
    }
   ],
   "source": [
    "# оцениваем качество обученной модели\n",
    "mean_absolute_error(y_pred_Lasso, y_test)"
   ]
  },
  {
   "cell_type": "markdown",
   "id": "8e5fa05c",
   "metadata": {},
   "source": [
    "### SVM"
   ]
  },
  {
   "cell_type": "code",
   "execution_count": 949,
   "id": "4c6ee3f2",
   "metadata": {},
   "outputs": [
    {
     "data": {
      "text/plain": [
       "SVR()"
      ]
     },
     "execution_count": 949,
     "metadata": {},
     "output_type": "execute_result"
    }
   ],
   "source": [
    "# обучаем модель\n",
    "model_SVM = svm.SVR()\n",
    "model_SVM.fit(X_train, y_train)"
   ]
  },
  {
   "cell_type": "code",
   "execution_count": 950,
   "id": "84ac4b7c",
   "metadata": {},
   "outputs": [
    {
     "data": {
      "text/plain": [
       "array([23.89863878, 23.55032507, 12.00344226, ...,  4.33375023,\n",
       "        5.71241877, 21.11643261])"
      ]
     },
     "execution_count": 950,
     "metadata": {},
     "output_type": "execute_result"
    }
   ],
   "source": [
    "# предсказываем таргет\n",
    "y_pred_SVM = model_SVM.predict(X_test)\n",
    "y_pred_SVM"
   ]
  },
  {
   "cell_type": "code",
   "execution_count": 951,
   "id": "7ff954bd",
   "metadata": {
    "scrolled": true
   },
   "outputs": [
    {
     "name": "stdout",
     "output_type": "stream",
     "text": [
      "Train:  0.5331159173749509 Test:  0.5094893033117605\n"
     ]
    }
   ],
   "source": [
    "print('Train: ', model_SVM.score(X_train, y_train), 'Test: ', model_SVM.score(X_test, y_test))"
   ]
  },
  {
   "cell_type": "code",
   "execution_count": 952,
   "id": "1bdb3c72",
   "metadata": {},
   "outputs": [
    {
     "data": {
      "text/plain": [
       "5.080043772753721"
      ]
     },
     "execution_count": 952,
     "metadata": {},
     "output_type": "execute_result"
    }
   ],
   "source": [
    "# оцениваем качество обученной модели\n",
    "mean_absolute_error(y_pred_SVM, y_test)"
   ]
  },
  {
   "cell_type": "markdown",
   "id": "833c7fc7",
   "metadata": {},
   "source": [
    "### Экспорт обученной модели"
   ]
  },
  {
   "cell_type": "code",
   "execution_count": 959,
   "id": "9b11043e",
   "metadata": {},
   "outputs": [],
   "source": [
    "# экспортируем обученную модель в файл\n",
    "import pickle\n",
    "filename = 'model_LR.sav'\n",
    "pickle.dump(model_LR, open(filename, 'wb'))"
   ]
  },
  {
   "cell_type": "code",
   "execution_count": 960,
   "id": "02e1e8ed",
   "metadata": {},
   "outputs": [
    {
     "name": "stderr",
     "output_type": "stream",
     "text": [
      "/Users/aukorotkov/opt/anaconda3/lib/python3.9/site-packages/sklearn/base.py:450: UserWarning: X does not have valid feature names, but LinearRegression was fitted with feature names\n",
      "  warnings.warn(\n"
     ]
    },
    {
     "data": {
      "text/plain": [
       "array([4.73313392])"
      ]
     },
     "execution_count": 960,
     "metadata": {},
     "output_type": "execute_result"
    }
   ],
   "source": [
    "# проверяем работу обученной модели\n",
    "model_LR.predict(np.array([[16,4,0,0,0,0,1]]))"
   ]
  },
  {
   "cell_type": "code",
   "execution_count": 961,
   "id": "440cf895",
   "metadata": {
    "scrolled": false
   },
   "outputs": [
    {
     "name": "stdout",
     "output_type": "stream",
     "text": [
      "[4.73313392]\n"
     ]
    },
    {
     "name": "stderr",
     "output_type": "stream",
     "text": [
      "/Users/aukorotkov/opt/anaconda3/lib/python3.9/site-packages/sklearn/base.py:450: UserWarning: X does not have valid feature names, but LinearRegression was fitted with feature names\n",
      "  warnings.warn(\n"
     ]
    }
   ],
   "source": [
    "# проверяем работу обученной модели из файла\n",
    "model = pickle.load(open(filename, 'rb'))\n",
    "result = model.predict(np.array([[16,4,0,0,0,0,1]]))\n",
    "print(result)"
   ]
  },
  {
   "cell_type": "code",
   "execution_count": null,
   "id": "612543ae",
   "metadata": {},
   "outputs": [],
   "source": []
  }
 ],
 "metadata": {
  "kernelspec": {
   "display_name": "Python 3 (ipykernel)",
   "language": "python",
   "name": "python3"
  },
  "language_info": {
   "codemirror_mode": {
    "name": "ipython",
    "version": 3
   },
   "file_extension": ".py",
   "mimetype": "text/x-python",
   "name": "python",
   "nbconvert_exporter": "python",
   "pygments_lexer": "ipython3",
   "version": "3.9.12"
  }
 },
 "nbformat": 4,
 "nbformat_minor": 5
}
